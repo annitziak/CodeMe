{
 "cells": [
  {
   "cell_type": "code",
   "execution_count": 3,
   "id": "13ec0f1c-8fae-4155-bdad-68165c5ba17f",
   "metadata": {},
   "outputs": [],
   "source": [
    "import math\n",
    "import re\n",
    "from sentence_transformers import SentenceTransformer\n",
    "import faiss\n",
    "import numpy as np\n",
    "from collections import defaultdict\n"
   ]
  },
  {
   "cell_type": "code",
   "execution_count": 5,
   "id": "7556c70c-9817-4137-8db1-93c11ca568a8",
   "metadata": {},
   "outputs": [],
   "source": [
    "doc_dict=defaultdict(list)\n",
    "\n",
    "with open(\"document_terms.txt\",\"r\") as f:\n",
    "    for line in f:\n",
    "        words=line.split(\":\",1)\n",
    "        doc_dict[words[0]]=words[1]\n",
    "        "
   ]
  },
  {
   "cell_type": "code",
   "execution_count": 7,
   "id": "810201de-601d-4e10-af43-096c31d6ac84",
   "metadata": {},
   "outputs": [
    {
     "name": "stdout",
     "output_type": "stream",
     "text": [
      " setContentText\tsetContentTitle\tsetStyle\tsetSmallIcon\tsimple\tcontentIntent\tcode\tclass\tandroid\tmes\tmBuilder\tmNotificationManager\tthis\tgetActivity\tgetSystemService\tdrawable\tic_launcher\tif\tSiom\tSDK_INT\tfor\tContext\tCAN\telse\tbigText\tnew\tnotification\tos\tAlert\tPendingIntent\tMyActivity\tTITLE\tTSKEN\tIntent\tR\tFROM\t0\tBuilder\tBuild\tBigTextStyle\tBE\tNotificationCompat\tNotificationManager\tNOTIFICATION_SERVICE\tHERE\tVERSION_CODES\tVERSION\tJELLY_BEAN\t\"\t(\t)\t,\t.\t/\t;\t=\t>\t{\t}\n",
      "\n",
      "done\n",
      "done\n",
      "done\n",
      "done\n",
      "done\n"
     ]
    }
   ],
   "source": [
    "def LM(all_doc_text):\n",
    "   model = SentenceTransformer('sentence-transformers/all-MiniLM-L6-v2')\n",
    "   # Generate embeddings for the documents\n",
    "   doc_texts = list(all_doc_text.values())\n",
    "   print(doc_texts[0])  # Extract the text of documents\n",
    "   doc_embeddings = model.encode(doc_texts, convert_to_tensor=False)\n",
    "   dimension = doc_embeddings.shape[1]\n",
    "\n",
    "# Create a FAISS index for similarity search\n",
    "   index = faiss.IndexFlatL2(dimension)  # L2 distance (Euclidean distance)\n",
    "   index.add(np.array(doc_embeddings)) \n",
    "\n",
    "# Search the FAISS index for the top-3 most similar documents\n",
    "   return index, list(all_doc_text.keys())  # Return doc ids separately\n",
    "\n",
    "def search_query(query, index, doc_ids, doc_dict, top_k=5):\n",
    "    model = SentenceTransformer('sentence-transformers/all-MiniLM-L6-v2')\n",
    "\n",
    "    # Step 1: Generate embedding for the query\n",
    "    query_embedding = model.encode([query], convert_to_tensor=False)\n",
    "\n",
    "    # Step 2: Perform search in FAISS index\n",
    "    distances, indices = index.search(np.array(query_embedding), top_k)\n",
    "\n",
    "    # Step 3: Retrieve and display matching documents\n",
    "    results = []\n",
    "    for idx in indices[0]:\n",
    "        doc_id = doc_ids[idx]  # Get the document id for the index (use doc_ids list)\n",
    "        results.append(doc_dict[doc_id])  # Fetch the document text using the doc_id\n",
    "\n",
    "    return results\n",
    "\n",
    "index, doc_ids = LM(doc_dict)\n",
    "\n",
    "with open(\"results_of_lm.txt\",\"w\") as f:\n",
    "   ans=search_query('code for a simple web scraper',index,doc_ids,doc_dict,top_k=5)\n",
    "   for doc_id in ans:\n",
    "      f.write(doc_id)\n",
    "      f.write(\"\\n\")\n",
    "      print('done')"
   ]
  }
 ],
 "metadata": {
  "kernelspec": {
   "display_name": "Python 3 (ipykernel)",
   "language": "python",
   "name": "python3"
  },
  "language_info": {
   "codemirror_mode": {
    "name": "ipython",
    "version": 3
   },
   "file_extension": ".py",
   "mimetype": "text/x-python",
   "name": "python",
   "nbconvert_exporter": "python",
   "pygments_lexer": "ipython3",
   "version": "3.11.9"
  }
 },
 "nbformat": 4,
 "nbformat_minor": 5
}
