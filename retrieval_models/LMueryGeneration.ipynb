{
 "cells": [
  {
   "cell_type": "code",
   "execution_count": 7,
   "id": "34b6d422-16fc-4db7-9c4e-a7bea7fd8b99",
   "metadata": {},
   "outputs": [
    {
     "name": "stdout",
     "output_type": "stream",
     "text": [
      "Requirement already satisfied: sentence-transformers in /opt/conda/lib/python3.11/site-packages (3.2.1)\n",
      "Requirement already satisfied: transformers<5.0.0,>=4.41.0 in /opt/conda/lib/python3.11/site-packages (from sentence-transformers) (4.42.4)\n",
      "Requirement already satisfied: tqdm in /opt/conda/lib/python3.11/site-packages (from sentence-transformers) (4.66.2)\n",
      "Requirement already satisfied: torch>=1.11.0 in /opt/conda/lib/python3.11/site-packages (from sentence-transformers) (2.3.1.post100)\n",
      "Requirement already satisfied: scikit-learn in /opt/conda/lib/python3.11/site-packages (from sentence-transformers) (1.5.1)\n",
      "Requirement already satisfied: scipy in /opt/conda/lib/python3.11/site-packages (from sentence-transformers) (1.14.1)\n",
      "Requirement already satisfied: huggingface-hub>=0.20.0 in /opt/conda/lib/python3.11/site-packages (from sentence-transformers) (0.23.4)\n",
      "Requirement already satisfied: Pillow in /opt/conda/lib/python3.11/site-packages (from sentence-transformers) (10.4.0)\n",
      "Requirement already satisfied: filelock in /opt/conda/lib/python3.11/site-packages (from huggingface-hub>=0.20.0->sentence-transformers) (3.16.1)\n",
      "Requirement already satisfied: fsspec>=2023.5.0 in /opt/conda/lib/python3.11/site-packages (from huggingface-hub>=0.20.0->sentence-transformers) (2024.10.0)\n",
      "Requirement already satisfied: packaging>=20.9 in /opt/conda/lib/python3.11/site-packages (from huggingface-hub>=0.20.0->sentence-transformers) (24.0)\n",
      "Requirement already satisfied: pyyaml>=5.1 in /opt/conda/lib/python3.11/site-packages (from huggingface-hub>=0.20.0->sentence-transformers) (6.0.1)\n",
      "Requirement already satisfied: requests in /opt/conda/lib/python3.11/site-packages (from huggingface-hub>=0.20.0->sentence-transformers) (2.32.3)\n",
      "Requirement already satisfied: typing-extensions>=3.7.4.3 in /opt/conda/lib/python3.11/site-packages (from huggingface-hub>=0.20.0->sentence-transformers) (4.11.0)\n",
      "Requirement already satisfied: sympy in /opt/conda/lib/python3.11/site-packages (from torch>=1.11.0->sentence-transformers) (1.12)\n",
      "Requirement already satisfied: networkx in /opt/conda/lib/python3.11/site-packages (from torch>=1.11.0->sentence-transformers) (3.4.2)\n",
      "Requirement already satisfied: jinja2 in /opt/conda/lib/python3.11/site-packages (from torch>=1.11.0->sentence-transformers) (3.1.3)\n",
      "Requirement already satisfied: numpy<2.0,>=1.17 in /opt/conda/lib/python3.11/site-packages (from transformers<5.0.0,>=4.41.0->sentence-transformers) (1.26.4)\n",
      "Requirement already satisfied: regex!=2019.12.17 in /opt/conda/lib/python3.11/site-packages (from transformers<5.0.0,>=4.41.0->sentence-transformers) (2024.9.11)\n",
      "Requirement already satisfied: tokenizers<0.20,>=0.19 in /opt/conda/lib/python3.11/site-packages (from transformers<5.0.0,>=4.41.0->sentence-transformers) (0.19.1)\n",
      "Requirement already satisfied: safetensors>=0.4.1 in /opt/conda/lib/python3.11/site-packages (from transformers<5.0.0,>=4.41.0->sentence-transformers) (0.4.5)\n",
      "Requirement already satisfied: joblib>=1.2.0 in /opt/conda/lib/python3.11/site-packages (from scikit-learn->sentence-transformers) (1.4.2)\n",
      "Requirement already satisfied: threadpoolctl>=3.1.0 in /opt/conda/lib/python3.11/site-packages (from scikit-learn->sentence-transformers) (3.5.0)\n",
      "Requirement already satisfied: MarkupSafe>=2.0 in /opt/conda/lib/python3.11/site-packages (from jinja2->torch>=1.11.0->sentence-transformers) (2.1.5)\n",
      "Requirement already satisfied: charset-normalizer<4,>=2 in /opt/conda/lib/python3.11/site-packages (from requests->huggingface-hub>=0.20.0->sentence-transformers) (3.3.2)\n",
      "Requirement already satisfied: idna<4,>=2.5 in /opt/conda/lib/python3.11/site-packages (from requests->huggingface-hub>=0.20.0->sentence-transformers) (3.6)\n",
      "Requirement already satisfied: urllib3<3,>=1.21.1 in /opt/conda/lib/python3.11/site-packages (from requests->huggingface-hub>=0.20.0->sentence-transformers) (2.2.3)\n",
      "Requirement already satisfied: certifi>=2017.4.17 in /opt/conda/lib/python3.11/site-packages (from requests->huggingface-hub>=0.20.0->sentence-transformers) (2024.8.30)\n",
      "Requirement already satisfied: mpmath>=0.19 in /opt/conda/lib/python3.11/site-packages (from sympy->torch>=1.11.0->sentence-transformers) (1.3.0)\n",
      "Note: you may need to restart the kernel to use updated packages.\n"
     ]
    }
   ],
   "source": [
    "pip install sentence-transformers\n"
   ]
  },
  {
   "cell_type": "code",
   "execution_count": 15,
   "id": "ca774802-1149-4832-9a50-440b0497b9a4",
   "metadata": {},
   "outputs": [
    {
     "name": "stderr",
     "output_type": "stream",
     "text": [
      "Token indices sequence length is longer than the specified maximum sequence length for this model (788 > 512). Running this sequence through the model will result in indexing errors\n"
     ]
    },
    {
     "name": "stdout",
     "output_type": "stream",
     "text": [
      "Generated Query:   I'm debugging a servlet in tomcat on windows. I don't want to write the checkRow() for each row of 8 total rows.\n"
     ]
    }
   ],
   "source": [
    "document = \"\"\"id\ttitle\tbody\n",
    "419044\tC# checkbox \tI have 3 check boxes in each row of 8 total rows. I want to have the third checkbox in each row to get checked only when the first two checkboxes are unchecked. I do not want to write a checkRow() method for each row. What is the best way to go about it? private void checkRow()\n",
    "{\n",
    "    for (int i = 0; i < 8; i++)\n",
    "    {\n",
    "        var arraylist = new[] { checkbox1, checkbox2, checkbox3 };\n",
    "        if (checkbox1.Checked || checkbox2.Checked)\n",
    "        {\n",
    "            arraylist[2].Checked = false;\n",
    "        }\n",
    "        else\n",
    "            arraylist[2].Checked = true;\n",
    "    }\n",
    "}\n",
    "\n",
    "\n",
    "private void checbox1_CheckedChanged(object sender, EventArgs e)\n",
    "{\n",
    "    checkRow();\n",
    "}\n",
    "\n",
    "private void checbox2_CheckedChanged(object sender, EventArgs e)\n",
    "{\n",
    "    checkRow();\n",
    "}\n",
    "\n",
    "private void checbox3_CheckedChanged(object sender, EventArgs e)\n",
    "{\n",
    "    checkRow();\n",
    "}\n",
    " In response. private void checkRow()\n",
    "{\n",
    "    var arraylist = new[] { checkEdit1, checkEdit2, checkEdit3 };\n",
    "    var arraylist1 = new[] { checkEdit4, checkEdit5, checkEdit6 };\n",
    "    var arraylist2 = new[] { checkEdit7, checkEdit8, checkEdit9 };\n",
    "    var array = new[] { arraylist, arraylist1, arraylist2 };\n",
    "\n",
    "    for (int i = 0; i < 8; i++)\n",
    "    {\n",
    "        //if checkedit1 or checkedit2 is checked the checkedit3 should not be checked\n",
    "        if (array[i]....Checked || array[i]....Checked)\n",
    "        {\n",
    "            arraylist[i]...Checked = false;\n",
    "        }\n",
    "        else\n",
    "            arraylist[i]...Checked = true;\n",
    "    }\n",
    "}\n",
    " I was trying to do something like this so that I dont have to write the checkRow() for each row\n",
    "419085\tHow to fix eclipse spinning CPU while debugging on tomcat server \tI know stackoverflow is meant for programming problems, but this is exactly the kind of thing you search for on google and other people ask the same question with no answer, which is exactly the kind of thing I read stackoverflow was for. I run ganymede I'm debugging a servlet in tomcat on windows. When I do a line by line trace, all of a sudden the CPU spikes. windows process status says it's eclipse.\n",
    "The only other evidence of weirdness is that the heapsize report in the corner (next to the garbage collection button if you have that turned on) changes every second, up and down up and down. I gave it 256 megs and it's bouncing between 155, 169, 159, 164.... it just keeps changing up and down. But nothing's going on in my progress view pane. I tried giving it 512 megs no help (2 gig in the machine) Any idea how to get eclipse to tell me what it's doing with all my cpu?\n",
    "It makes the debugger unresponsive and nothing works. I get timeout errors on my step command.\n",
    "\n",
    "\n",
    "\"\"\"\n",
    "\n",
    "from transformers import AutoTokenizer, AutoModelForSeq2SeqLM\n",
    "\n",
    "# Load a tokenizer and model (modify based on your use case)\n",
    "model_name = \"t5-small\"  # You can change this based on the model you're using\n",
    "tokenizer = AutoTokenizer.from_pretrained(model_name)\n",
    "model = AutoModelForSeq2SeqLM.from_pretrained(model_name)\n",
    "\n",
    "# Preprocess Input for Query Generation\n",
    "input_text = \"generate query: \" + document\n",
    "input_ids = tokenizer.encode(input_text, return_tensors=\"pt\")\n",
    "\n",
    "# Generate Query\n",
    "output_ids = model.generate(input_ids, max_length=50)\n",
    "generated_query = tokenizer.decode(output_ids[0], skip_special_tokens=True)\n",
    "\n",
    "print(\"Generated Query:\", generated_query)\n"
   ]
  },
  {
   "cell_type": "code",
   "execution_count": 17,
   "id": "6c847fa8-b6be-4901-9ac4-3664e818b723",
   "metadata": {},
   "outputs": [],
   "source": [
    "import time"
   ]
  },
  {
   "cell_type": "code",
   "execution_count": 18,
   "id": "25107720-354d-4df9-b1c3-045611b9b6e6",
   "metadata": {},
   "outputs": [
    {
     "name": "stdout",
     "output_type": "stream",
     "text": [
      "Relevance Score: 0.5086\n",
      "Execution Time: 0.041504 seconds\n",
      "The document is somewhat relevant to the user's query.\n"
     ]
    }
   ],
   "source": [
    "from sentence_transformers import SentenceTransformer, util\n",
    "\n",
    "# Load Pretrained SBERT Model\n",
    "model = SentenceTransformer('all-MiniLM-L6-v2')\n",
    "\n",
    "# Example User Query\n",
    "user_query = \"How to debugging a servlet in tomcat?\"\n",
    "\n",
    "# Example Model-Generated Query\n",
    "generated_query = \"I'm debugging a servlet in tomcat on windows. I don't want to write the checkRow() for each row of 8 total rows.\"\n",
    "\n",
    "start_time = time.time()\n",
    "\n",
    "# Encode both queries\n",
    "user_embedding = model.encode(user_query, convert_to_tensor=True)\n",
    "generated_embedding = model.encode(generated_query, convert_to_tensor=True)\n",
    "\n",
    "# Compute Cosine Similarity\n",
    "similarity_score = util.pytorch_cos_sim(user_embedding, generated_embedding).item()\n",
    "\n",
    "end_time = time.time()\n",
    "# **Calculate Execution Time**\n",
    "execution_time = end_time - start_time\n",
    "\n",
    "# **Output Results**\n",
    "print(f\"Relevance Score: {similarity_score:.4f}\")\n",
    "print(f\"Execution Time: {execution_time:.6f} seconds\")\n",
    "\n",
    "\n",
    "# Interpretation\n",
    "if similarity_score > 0.7:\n",
    "    print(\"The document is highly relevant to the user's query.\")\n",
    "elif similarity_score > 0.4:\n",
    "    print(\"The document is somewhat relevant to the user's query.\")\n",
    "else:\n",
    "    print(\"The document is not very relevant to the user's query.\")\n"
   ]
  },
  {
   "cell_type": "code",
   "execution_count": null,
   "id": "322bd7d4-46e9-4354-bf1d-329b6b9e6bd3",
   "metadata": {},
   "outputs": [],
   "source": []
  }
 ],
 "metadata": {
  "kernelspec": {
   "display_name": "Python 3 (ipykernel)",
   "language": "python",
   "name": "python3"
  },
  "language_info": {
   "codemirror_mode": {
    "name": "ipython",
    "version": 3
   },
   "file_extension": ".py",
   "mimetype": "text/x-python",
   "name": "python",
   "nbconvert_exporter": "python",
   "pygments_lexer": "ipython3",
   "version": "3.11.9"
  }
 },
 "nbformat": 4,
 "nbformat_minor": 5
}
