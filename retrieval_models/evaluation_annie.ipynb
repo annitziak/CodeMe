{
 "cells": [
  {
   "cell_type": "code",
   "execution_count": 22,
   "metadata": {},
   "outputs": [],
   "source": [
    "# testing notebook\n",
    "# test for query processing time\n",
    "# test for different results when different methods are used.\n",
    "\n",
    "import sys\n",
    "import os\n",
    "import pickle\n",
    "# use abs path\n",
    "parent_dir = os.path.abspath(os.path.join(os.getcwd(), \"..\"))\n",
    "# \"C:\\Users\\annie\\Downloads\\data\"\n",
    "sys.path.append(parent_dir)\n",
    "\n",
    "from retrieval_models.data_loaders import Index\n",
    "from retrieval_models.retrieval_functions import *\n",
    "from retrieval_models.reranking import Reranker\n",
    "from retrieval_models.evaluation_metrics import *\n",
    "#from preprocessing.tokenizer import Tokenizer\n",
    "#from preprocessing import NormalTextBlock, LinkBlock, CodeBlock, Block\n",
    "import tqdm \n",
    "import os\n",
    "import time\n",
    "from scipy.stats import kendalltau, spearmanr\n"
   ]
  },
  {
   "cell_type": "code",
   "execution_count": 23,
   "metadata": {},
   "outputs": [
    {
     "name": "stdout",
     "output_type": "stream",
     "text": [
      "TypeError: 'NoneType' object is not subscriptable in Python\n",
      "24\n"
     ]
    }
   ],
   "source": [
    "#import all the examples for ranked retrieval\n",
    "queries_examples = []\n",
    "BASE_DIR = os.getcwd()\n",
    "index_path = os.path.join(BASE_DIR, \"data\", \"queries_examples.txt\")\n",
    "with open(index_path, 'r', encoding='utf-8', errors='replace') as file:\n",
    "    queries_examples = [line.strip() for line in file if line.strip()]  # Remove empty lines\n",
    "\n",
    "print(queries_examples[0]) #print the first one for example\n",
    "print(len(queries_examples)) #print the number of queries\n"
   ]
  },
  {
   "cell_type": "code",
   "execution_count": 24,
   "metadata": {},
   "outputs": [
    {
     "name": "stdout",
     "output_type": "stream",
     "text": [
      "data AND science\n",
      "7\n"
     ]
    }
   ],
   "source": [
    "#import all boolean examples\n",
    "queries_examples_boolean = []\n",
    "BASE_DIR = os.getcwd()\n",
    "index_path = os.path.join(BASE_DIR, \"data\", \"boolean_queries_examples.txt\")\n",
    "with open(index_path, 'r', encoding='utf-8', errors='replace') as file:\n",
    "    queries_examples_boolean = [line.strip() for line in file if line.strip()]  # Remove empty lines\n",
    "\n",
    "print(queries_examples_boolean[0]) #print the first one for example\n",
    "print(len(queries_examples_boolean)) #print the number of boolean queries"
   ]
  },
  {
   "cell_type": "code",
   "execution_count": 8,
   "metadata": {},
   "outputs": [
    {
     "name": "stdout",
     "output_type": "stream",
     "text": [
      "Skipping invalid doc_info line: \t1449406:\n",
      "Skipping invalid doc_info line: \t1449406:\n",
      "Skipping invalid doc_info line: \t1449406:\n",
      "Skipping invalid doc_info line: \t1127363:\n",
      "Skipping invalid doc_info line: \t1449406:\n",
      "Skipping invalid doc_info line: \t1127363:\n",
      "Skipping invalid doc_info line: \t1127363:\n",
      "Skipping invalid doc_info line: \t1449406:\n",
      "Skipping invalid doc_info line: \t1449406:\n",
      "Skipping invalid doc_info line: \t1449406:\n",
      "Skipping invalid doc_info line: \t1449406:\n",
      "Skipping invalid doc_info line: \t820167:\n",
      "done loading index positions\n",
      "done finding vocab\n",
      "c:\\Users\\annie\\ttds_assignment\\retrieval_models\\data\\doc_metadata.txt\n",
      "done loading doc lengths\n"
     ]
    }
   ],
   "source": [
    "#initialize the object index \n",
    "# ignore the errors is because of the preprocessing done at this stage and it ignores some terms\n",
    "index = Index()"
   ]
  },
  {
   "cell_type": "code",
   "execution_count": null,
   "metadata": {},
   "outputs": [
    {
     "name": "stdout",
     "output_type": "stream",
     "text": [
      "['httpservletrequestwrapper', 'httpservletrequestwrapp', \"httpservletrequest'\", 'httpservletrequest', 'httpservletrequ', 'httpservletreqest', 'httpservletresponsewrapper', 'httpservletresponsewrapp', \"httpservletresponse'\"]\n"
     ]
    },
    {
     "name": "stderr",
     "output_type": "stream",
     "text": [
      "c:\\Users\\annie\\anaconda3\\anaconda\\Lib\\site-packages\\transformers\\utils\\generic.py:260: FutureWarning: `torch.utils._pytree._register_pytree_node` is deprecated. Please use `torch.utils._pytree.register_pytree_node` instead.\n",
      "  torch.utils._pytree._register_pytree_node(\n",
      "c:\\Users\\annie\\anaconda3\\anaconda\\Lib\\site-packages\\transformers\\modeling_utils.py:479: FutureWarning: You are using `torch.load` with `weights_only=False` (the current default value), which uses the default pickle module implicitly. It is possible to construct malicious pickle data which will execute arbitrary code during unpickling (See https://github.com/pytorch/pytorch/blob/main/SECURITY.md#untrusted-models for more details). In a future release, the default value for `weights_only` will be flipped to `True`. This limits the functions that could be executed during unpickling. Arbitrary objects will no longer be allowed to be loaded via this mode unless they are explicitly allowlisted by the user via `torch.serialization.add_safe_globals`. We recommend you start setting `weights_only=True` for any use case where you don't have full control of the loaded file. Please open an issue on GitHub for any issues related to this experimental feature.\n",
      "  return torch.load(checkpoint_file, map_location=map_location)\n"
     ]
    },
    {
     "name": "stdout",
     "output_type": "stream",
     "text": [
      "Precomputing embeddings...\n"
     ]
    },
    {
     "name": "stderr",
     "output_type": "stream",
     "text": [
      "Processing batches: 100%|██████████| 9995/9995 [5:05:03<00:00,  1.83s/it]   \n"
     ]
    },
    {
     "name": "stdout",
     "output_type": "stream",
     "text": [
      "✅ Embeddings successfully saved to retrieval_models/data/vocab_embeddings.pkl\n",
      "🔍 File confirmed at retrieval_models/data/vocab_embeddings.pkl\n"
     ]
    }
   ],
   "source": [
    "# precompute the embeddings -> no need to run this again \n",
    "#print(index.vocab[1:10])\n",
    "#embeddingmodel = EmbeddingModel(vocab = index.vocab)"
   ]
  },
  {
   "cell_type": "code",
   "execution_count": 25,
   "metadata": {},
   "outputs": [
    {
     "name": "stdout",
     "output_type": "stream",
     "text": [
      "Embedding: [-0.18265761  0.33220416  0.08295575 -0.00454214  0.13252828] of size 768...\n"
     ]
    }
   ],
   "source": [
    "#after precomputing the embeddings load them in\n",
    "def load_and_get_embedding(word, save_path=\"data/embeddings.pkl\"):\n",
    "    \"function that loads the embeddings and returns the embedding of the word\"\n",
    "    with open(save_path, \"rb\") as f:\n",
    "        embeddings, word_to_index = pickle.load(f)\n",
    "    \n",
    "    return embeddings[word_to_index[word]] if word in word_to_index else None\n",
    "\n",
    "# Example usage\n",
    "embedding_vector = load_and_get_embedding(\"java\")\n",
    "if embedding_vector is not None:\n",
    "    print(f\"Embedding: {embedding_vector[:5]} of size {len(embedding_vector)}...\")  # Print first 5 values for readability"
   ]
  },
  {
   "cell_type": "code",
   "execution_count": 26,
   "metadata": {},
   "outputs": [],
   "source": [
    "# Iterate over queries and print results\n",
    "def run_queries(queries_examples, index, embedding_model=None, expansion=False, k=10):\n",
    "    \"\"\"\n",
    "    Runs retrieval for a list of queries and prints top results.\n",
    "    Also prints the total execution time.\n",
    "    \"\"\"\n",
    "    start_time = time.time()  # Start timer\n",
    "\n",
    "    retrieved_docs = {}\n",
    "    \n",
    "    for query in tqdm.tqdm(queries_examples):\n",
    "        #print(\"Query:\", query)\n",
    "        top_results = retrieval_function(query, index,embedding_model, expansion, k)\n",
    "        #print(\"Top results:\", top_results)\n",
    "        #print(\"\\n\")\n",
    "        retrieved_docs[query]=top_results\n",
    "\n",
    "    end_time = time.time()  # End timer\n",
    "    total_time = end_time - start_time\n",
    "\n",
    "    print(f\"Total Execution Time: {total_time:.4f} seconds\")\n",
    "    print(f\"Average Time per Query: {total_time / len(queries_examples):.4f} seconds\")\n",
    "\n",
    "    return total_time, retrieved_docs\n"
   ]
  },
  {
   "cell_type": "code",
   "execution_count": 43,
   "metadata": {},
   "outputs": [
    {
     "name": "stderr",
     "output_type": "stream",
     "text": [
      "  0%|          | 0/24 [00:00<?, ?it/s]"
     ]
    },
    {
     "name": "stdout",
     "output_type": "stream",
     "text": [
      "Starting ranked search\n"
     ]
    },
    {
     "name": "stderr",
     "output_type": "stream",
     "text": [
      "  4%|▍         | 1/24 [00:01<00:29,  1.29s/it]"
     ]
    },
    {
     "name": "stdout",
     "output_type": "stream",
     "text": [
      "Starting ranked search\n"
     ]
    },
    {
     "name": "stderr",
     "output_type": "stream",
     "text": [
      "  8%|▊         | 2/24 [00:02<00:33,  1.52s/it]"
     ]
    },
    {
     "name": "stdout",
     "output_type": "stream",
     "text": [
      "Starting ranked search\n"
     ]
    },
    {
     "name": "stderr",
     "output_type": "stream",
     "text": [
      " 12%|█▎        | 3/24 [00:04<00:30,  1.43s/it]"
     ]
    },
    {
     "name": "stdout",
     "output_type": "stream",
     "text": [
      "Starting ranked search\n"
     ]
    },
    {
     "name": "stderr",
     "output_type": "stream",
     "text": [
      " 17%|█▋        | 4/24 [00:04<00:21,  1.10s/it]"
     ]
    },
    {
     "name": "stdout",
     "output_type": "stream",
     "text": [
      "Starting ranked search\n"
     ]
    },
    {
     "name": "stderr",
     "output_type": "stream",
     "text": [
      " 21%|██        | 5/24 [00:05<00:17,  1.08it/s]"
     ]
    },
    {
     "name": "stdout",
     "output_type": "stream",
     "text": [
      "Starting ranked search\n"
     ]
    },
    {
     "name": "stderr",
     "output_type": "stream",
     "text": [
      " 29%|██▉       | 7/24 [00:06<00:09,  1.78it/s]"
     ]
    },
    {
     "name": "stdout",
     "output_type": "stream",
     "text": [
      "Starting ranked search\n",
      "Starting ranked search\n"
     ]
    },
    {
     "name": "stderr",
     "output_type": "stream",
     "text": [
      " 38%|███▊      | 9/24 [00:07<00:07,  1.93it/s]"
     ]
    },
    {
     "name": "stdout",
     "output_type": "stream",
     "text": [
      "Starting ranked search\n",
      "Starting ranked search\n",
      "Starting ranked search\n"
     ]
    },
    {
     "name": "stderr",
     "output_type": "stream",
     "text": [
      " 46%|████▌     | 11/24 [00:07<00:05,  2.35it/s]"
     ]
    },
    {
     "name": "stdout",
     "output_type": "stream",
     "text": [
      "Starting ranked search\n"
     ]
    },
    {
     "name": "stderr",
     "output_type": "stream",
     "text": [
      " 54%|█████▍    | 13/24 [00:08<00:04,  2.40it/s]"
     ]
    },
    {
     "name": "stdout",
     "output_type": "stream",
     "text": [
      "Starting ranked search\n",
      "Starting ranked search\n"
     ]
    },
    {
     "name": "stderr",
     "output_type": "stream",
     "text": [
      " 62%|██████▎   | 15/24 [00:08<00:02,  3.77it/s]"
     ]
    },
    {
     "name": "stdout",
     "output_type": "stream",
     "text": [
      "Starting ranked search\n",
      "Starting ranked search\n"
     ]
    },
    {
     "name": "stderr",
     "output_type": "stream",
     "text": [
      " 71%|███████   | 17/24 [00:09<00:02,  3.46it/s]"
     ]
    },
    {
     "name": "stdout",
     "output_type": "stream",
     "text": [
      "Starting ranked search\n",
      "Starting ranked search\n"
     ]
    },
    {
     "name": "stderr",
     "output_type": "stream",
     "text": [
      " 75%|███████▌  | 18/24 [00:09<00:01,  3.88it/s]"
     ]
    },
    {
     "name": "stdout",
     "output_type": "stream",
     "text": [
      "Starting ranked search\n"
     ]
    },
    {
     "name": "stderr",
     "output_type": "stream",
     "text": [
      " 79%|███████▉  | 19/24 [00:09<00:01,  3.90it/s]"
     ]
    },
    {
     "name": "stdout",
     "output_type": "stream",
     "text": [
      "Starting ranked search\n"
     ]
    },
    {
     "name": "stderr",
     "output_type": "stream",
     "text": [
      " 83%|████████▎ | 20/24 [00:10<00:01,  2.90it/s]"
     ]
    },
    {
     "name": "stdout",
     "output_type": "stream",
     "text": [
      "Starting ranked search\n"
     ]
    },
    {
     "name": "stderr",
     "output_type": "stream",
     "text": [
      " 88%|████████▊ | 21/24 [00:10<00:01,  2.91it/s]"
     ]
    },
    {
     "name": "stdout",
     "output_type": "stream",
     "text": [
      "Starting ranked search\n",
      "Starting ranked search\n"
     ]
    },
    {
     "name": "stderr",
     "output_type": "stream",
     "text": [
      " 96%|█████████▌| 23/24 [00:11<00:00,  4.07it/s]"
     ]
    },
    {
     "name": "stdout",
     "output_type": "stream",
     "text": [
      "Starting ranked search\n"
     ]
    },
    {
     "name": "stderr",
     "output_type": "stream",
     "text": [
      "100%|██████████| 24/24 [00:11<00:00,  2.07it/s]"
     ]
    },
    {
     "name": "stdout",
     "output_type": "stream",
     "text": [
      "Total Execution Time: 11.5921 seconds\n",
      "Average Time per Query: 0.4830 seconds\n"
     ]
    },
    {
     "name": "stderr",
     "output_type": "stream",
     "text": [
      "\n"
     ]
    }
   ],
   "source": [
    "#the basic top k results for each query\n",
    "_,retrieved_docs = run_queries(queries_examples, index, k=10)"
   ]
  },
  {
   "cell_type": "code",
   "execution_count": 39,
   "metadata": {},
   "outputs": [],
   "source": [
    "#k_vals = [10,20,30,40] \n",
    "#exec_times = []\n",
    "#retrieved_docs = {}\n",
    "#run the queries for different k values\n",
    "#for k in k_vals:\n",
    " #   print(f\"Results for k={k}\")\n",
    " #   exec_time, retrieved_docs = run_queries(queries_examples, index, k=k)\n",
    " #   exec_times.append(exec_time)"
   ]
  },
  {
   "cell_type": "code",
   "execution_count": null,
   "metadata": {},
   "outputs": [
    {
     "data": {
      "image/png": "[encoded data removed]",
      "text/plain": [
       "<Figure size 640x480 with 1 Axes>"
      ]
     },
     "metadata": {},
     "output_type": "display_data"
    }
   ],
   "source": [
    "import matplotlib.pyplot as plt\n",
    "plt.plot(k_vals, exec_times)\n",
    "plt.xlabel(\"k\")\n",
    "plt.ylabel(\"Execution Time (s)\")\n",
    "plt.title(\"Execution Time vs. k\")\n",
    "plt.show()"
   ]
  },
  {
   "cell_type": "markdown",
   "metadata": {},
   "source": [
    "## Using Query Expansion : still to do and experiment"
   ]
  },
  {
   "cell_type": "code",
   "execution_count": 38,
   "metadata": {},
   "outputs": [
    {
     "name": "stderr",
     "output_type": "stream",
     "text": [
      "c:\\Users\\annie\\anaconda3\\anaconda\\Lib\\site-packages\\transformers\\utils\\generic.py:260: FutureWarning: `torch.utils._pytree._register_pytree_node` is deprecated. Please use `torch.utils._pytree.register_pytree_node` instead.\n",
      "  torch.utils._pytree._register_pytree_node(\n",
      "c:\\Users\\annie\\anaconda3\\anaconda\\Lib\\site-packages\\transformers\\modeling_utils.py:479: FutureWarning: You are using `torch.load` with `weights_only=False` (the current default value), which uses the default pickle module implicitly. It is possible to construct malicious pickle data which will execute arbitrary code during unpickling (See https://github.com/pytorch/pytorch/blob/main/SECURITY.md#untrusted-models for more details). In a future release, the default value for `weights_only` will be flipped to `True`. This limits the functions that could be executed during unpickling. Arbitrary objects will no longer be allowed to be loaded via this mode unless they are explicitly allowlisted by the user via `torch.serialization.add_safe_globals`. We recommend you start setting `weights_only=True` for any use case where you don't have full control of the loaded file. Please open an issue on GitHub for any issues related to this experimental feature.\n",
      "  return torch.load(checkpoint_file, map_location=map_location)\n"
     ]
    },
    {
     "name": "stdout",
     "output_type": "stream",
     "text": [
      "Loading embeddings from data/embeddings.pkl...\n"
     ]
    }
   ],
   "source": [
    "embeddingmodel = EmbeddingModel(vocab = index.vocab, save_path=\"data/embeddings.pkl\")\n",
    "#need to compute embeddings again! before running this\n",
    "#retrieved_docs_expansion = run_queries(queries_examples, index, embeddingmodel, expansion=True)"
   ]
  },
  {
   "cell_type": "code",
   "execution_count": 42,
   "metadata": {},
   "outputs": [
    {
     "name": "stderr",
     "output_type": "stream",
     "text": [
      "  0%|          | 0/24 [00:00<?, ?it/s]"
     ]
    },
    {
     "name": "stdout",
     "output_type": "stream",
     "text": [
      "Starting ranked search\n"
     ]
    },
    {
     "name": "stderr",
     "output_type": "stream",
     "text": [
      "  4%|▍         | 1/24 [00:01<00:30,  1.35s/it]"
     ]
    },
    {
     "name": "stdout",
     "output_type": "stream",
     "text": [
      "Starting ranked search\n",
      "Word 'nullpointerexception' not found in precomputed embeddings\n",
      "❌ Word 'nullpointerexception' not found in vocabulary. Cannot find similar words.\n",
      "Word 'handling' not found in precomputed embeddings\n",
      "❌ Word 'handling' not found in vocabulary. Cannot find similar words.\n",
      "[116217]\n",
      "[134191]\n"
     ]
    },
    {
     "name": "stderr",
     "output_type": "stream",
     "text": [
      "  8%|▊         | 2/24 [00:04<00:53,  2.44s/it]"
     ]
    },
    {
     "name": "stdout",
     "output_type": "stream",
     "text": [
      "Starting ranked search\n",
      "Word 'modulenotfounderror:' not found in precomputed embeddings\n",
      "❌ Word 'modulenotfounderror:' not found in vocabulary. Cannot find similar words.\n",
      "Word 'no' not found in precomputed embeddings\n",
      "❌ Word 'no' not found in vocabulary. Cannot find similar words.\n",
      "Word 'module' not found in precomputed embeddings\n",
      "❌ Word 'module' not found in vocabulary. Cannot find similar words.\n",
      "Word 'named' not found in precomputed embeddings\n",
      "❌ Word 'named' not found in vocabulary. Cannot find similar words.\n",
      "Word ''requests'' not found in precomputed embeddings\n",
      "❌ Word ''requests'' not found in vocabulary. Cannot find similar words.\n"
     ]
    },
    {
     "name": "stderr",
     "output_type": "stream",
     "text": [
      " 12%|█▎        | 3/24 [00:05<00:41,  1.98s/it]"
     ]
    },
    {
     "name": "stdout",
     "output_type": "stream",
     "text": [
      "Starting ranked search\n",
      "Word 'segmentation' not found in precomputed embeddings\n",
      "❌ Word 'segmentation' not found in vocabulary. Cannot find similar words.\n",
      "[63562]\n",
      "[116217]\n",
      "Word 'c++' not found in precomputed embeddings\n",
      "❌ Word 'c++' not found in vocabulary. Cannot find similar words.\n"
     ]
    },
    {
     "name": "stderr",
     "output_type": "stream",
     "text": [
      " 17%|█▋        | 4/24 [00:08<00:40,  2.03s/it]"
     ]
    },
    {
     "name": "stdout",
     "output_type": "stream",
     "text": [
      "Starting ranked search\n",
      "Word 'syntaxerror:' not found in precomputed embeddings\n",
      "❌ Word 'syntaxerror:' not found in vocabulary. Cannot find similar words.\n",
      "[128994]\n",
      "[15769]\n",
      "[44624]\n",
      "Word ''elif'' not found in precomputed embeddings\n",
      "❌ Word ''elif'' not found in vocabulary. Cannot find similar words.\n"
     ]
    },
    {
     "name": "stderr",
     "output_type": "stream",
     "text": [
      " 21%|██        | 5/24 [00:10<00:43,  2.31s/it]"
     ]
    },
    {
     "name": "stdout",
     "output_type": "stream",
     "text": [
      "Starting ranked search\n",
      "Word 'difference' not found in precomputed embeddings\n",
      "❌ Word 'difference' not found in vocabulary. Cannot find similar words.\n",
      "[135717]\n",
      "[47515]\n",
      "[6406]\n",
      "[28649]\n",
      "Word 'algorithms' not found in precomputed embeddings\n",
      "❌ Word 'algorithms' not found in vocabulary. Cannot find similar words.\n"
     ]
    },
    {
     "name": "stderr",
     "output_type": "stream",
     "text": [
      " 29%|██▉       | 7/24 [00:14<00:31,  1.85s/it]"
     ]
    },
    {
     "name": "stdout",
     "output_type": "stream",
     "text": [
      "Starting ranked search\n",
      "Starting ranked search\n"
     ]
    },
    {
     "name": "stderr",
     "output_type": "stream",
     "text": [
      " 33%|███▎      | 8/24 [00:15<00:24,  1.53s/it]"
     ]
    },
    {
     "name": "stdout",
     "output_type": "stream",
     "text": [
      "Starting ranked search\n"
     ]
    },
    {
     "name": "stderr",
     "output_type": "stream",
     "text": [
      " 38%|███▊      | 9/24 [00:15<00:16,  1.13s/it]"
     ]
    },
    {
     "name": "stdout",
     "output_type": "stream",
     "text": [
      "Starting ranked search\n",
      "[45782]\n",
      "[194857]\n",
      "Word 'programming' not found in precomputed embeddings\n",
      "❌ Word 'programming' not found in vocabulary. Cannot find similar words.\n",
      "[179648]\n"
     ]
    },
    {
     "name": "stderr",
     "output_type": "stream",
     "text": [
      " 42%|████▏     | 10/24 [00:18<00:23,  1.69s/it]"
     ]
    },
    {
     "name": "stdout",
     "output_type": "stream",
     "text": [
      "[97084]\n",
      "Word 'example' not found in precomputed embeddings\n",
      "❌ Word 'example' not found in vocabulary. Cannot find similar words.\n",
      "Starting ranked search\n"
     ]
    },
    {
     "name": "stderr",
     "output_type": "stream",
     "text": [
      " 46%|████▌     | 11/24 [00:19<00:17,  1.36s/it]"
     ]
    },
    {
     "name": "stdout",
     "output_type": "stream",
     "text": [
      "Starting ranked search\n"
     ]
    },
    {
     "name": "stderr",
     "output_type": "stream",
     "text": [
      " 50%|█████     | 12/24 [00:19<00:14,  1.18s/it]"
     ]
    },
    {
     "name": "stdout",
     "output_type": "stream",
     "text": [
      "Starting ranked search\n",
      "[209811]\n",
      "[2]\n",
      "[202713]\n",
      "Word 'pointers' not found in precomputed embeddings\n",
      "❌ Word 'pointers' not found in vocabulary. Cannot find similar words.\n",
      "[116217]\n",
      "Word 'c++?' not found in precomputed embeddings\n",
      "❌ Word 'c++?' not found in vocabulary. Cannot find similar words.\n"
     ]
    },
    {
     "name": "stderr",
     "output_type": "stream",
     "text": [
      " 58%|█████▊    | 14/24 [00:23<00:12,  1.26s/it]"
     ]
    },
    {
     "name": "stdout",
     "output_type": "stream",
     "text": [
      "Starting ranked search\n",
      "Starting ranked search\n",
      "Starting ranked search\n"
     ]
    },
    {
     "name": "stderr",
     "output_type": "stream",
     "text": [
      " 67%|██████▋   | 16/24 [00:23<00:06,  1.21it/s]"
     ]
    },
    {
     "name": "stdout",
     "output_type": "stream",
     "text": [
      "Starting ranked search\n",
      "[190758]\n",
      "Word 'does' not found in precomputed embeddings\n",
      "❌ Word 'does' not found in vocabulary. Cannot find similar words.\n",
      "Word 'std::move' not found in precomputed embeddings\n",
      "❌ Word 'std::move' not found in vocabulary. Cannot find similar words.\n",
      "[110950]\n",
      "[116217]\n",
      "Word 'c++?' not found in precomputed embeddings\n",
      "❌ Word 'c++?' not found in vocabulary. Cannot find similar words.\n"
     ]
    },
    {
     "name": "stderr",
     "output_type": "stream",
     "text": [
      " 75%|███████▌  | 18/24 [00:26<00:05,  1.01it/s]"
     ]
    },
    {
     "name": "stdout",
     "output_type": "stream",
     "text": [
      "Starting ranked search\n",
      "Starting ranked search\n"
     ]
    },
    {
     "name": "stderr",
     "output_type": "stream",
     "text": [
      " 79%|███████▉  | 19/24 [00:26<00:03,  1.27it/s]"
     ]
    },
    {
     "name": "stdout",
     "output_type": "stream",
     "text": [
      "Starting ranked search\n"
     ]
    },
    {
     "name": "stderr",
     "output_type": "stream",
     "text": [
      " 83%|████████▎ | 20/24 [00:27<00:02,  1.34it/s]"
     ]
    },
    {
     "name": "stdout",
     "output_type": "stream",
     "text": [
      "Starting ranked search\n",
      "[22003]\n",
      "[100147]\n",
      "[4436]\n",
      "[220722]\n",
      "[53951]\n"
     ]
    },
    {
     "name": "stderr",
     "output_type": "stream",
     "text": [
      " 88%|████████▊ | 21/24 [00:31<00:05,  1.67s/it]"
     ]
    },
    {
     "name": "stdout",
     "output_type": "stream",
     "text": [
      "Starting ranked search\n",
      "Word 'coding' not found in precomputed embeddings\n",
      "❌ Word 'coding' not found in vocabulary. Cannot find similar words.\n",
      "Word 'is' not found in precomputed embeddings\n",
      "❌ Word 'is' not found in vocabulary. Cannot find similar words.\n",
      "Word 'very' not found in precomputed embeddings\n",
      "❌ Word 'very' not found in vocabulary. Cannot find similar words.\n"
     ]
    },
    {
     "name": "stderr",
     "output_type": "stream",
     "text": [
      " 92%|█████████▏| 22/24 [00:32<00:02,  1.39s/it]"
     ]
    },
    {
     "name": "stdout",
     "output_type": "stream",
     "text": [
      "[31966]\n",
      "Starting ranked search\n",
      "Word 'ajdejfn' not found in precomputed embeddings\n",
      "❌ Word 'ajdejfn' not found in vocabulary. Cannot find similar words.\n",
      "[33112]\n"
     ]
    },
    {
     "name": "stderr",
     "output_type": "stream",
     "text": [
      " 96%|█████████▌| 23/24 [00:33<00:01,  1.27s/it]"
     ]
    },
    {
     "name": "stdout",
     "output_type": "stream",
     "text": [
      "Starting ranked search\n",
      "[59294]\n",
      "[2]\n",
      "[38603]\n",
      "[121157]\n",
      "Word 'website' not found in precomputed embeddings\n",
      "❌ Word 'website' not found in vocabulary. Cannot find similar words.\n"
     ]
    },
    {
     "name": "stderr",
     "output_type": "stream",
     "text": [
      "100%|██████████| 24/24 [00:36<00:00,  1.51s/it]"
     ]
    },
    {
     "name": "stdout",
     "output_type": "stream",
     "text": [
      "Total Execution Time: 36.2782 seconds\n",
      "Average Time per Query: 1.5116 seconds\n"
     ]
    },
    {
     "name": "stderr",
     "output_type": "stream",
     "text": [
      "\n"
     ]
    }
   ],
   "source": [
    "_,retrieved_docs_emb = run_queries(queries_examples, index, embeddingmodel, expansion=True, k=10)"
   ]
  },
  {
   "cell_type": "code",
   "execution_count": 53,
   "metadata": {},
   "outputs": [
    {
     "name": "stdout",
     "output_type": "stream",
     "text": [
      "Query: TypeError: 'NoneType' object is not subscriptable in Python 1.0\n",
      "Query: NullPointerException handling in Java 0.8181818181818182\n",
      "Query: ModuleNotFoundError: No module named 'requests' 1.0\n",
      "Query: Segmentation fault in C++ 0.0\n",
      "Query: SyntaxError: invalid syntax near 'elif' 0.6666666666666666\n",
      "Query: Difference between DFS and BFS algorithms 1.0\n",
      "Query: How does garbage collection work in Java? 1.0\n",
      "Query: What is tail recursion, and how does it optimize memory 1.0\n",
      "Query: What are strong and weak references in Python? 1.0\n",
      "Query: Explain dynamic programming with an example 0.42857142857142855\n",
      "Query: Best way to concatenate strings in Python 1.0\n",
      "Query: How to optimize SQL queries for large datasets? 1.0\n",
      "Query: When to use pointers in C++? 0.0\n",
      "Query: Why is binary search faster than linear search? 1.0\n",
      "Query: How to improve performance of nested loops in Java? 1.0\n",
      "Query: How to use Pandas groupby with multiple columns? 1.0\n",
      "Query: What does std::move do in C++? 0.17647058823529413\n",
      "Query: Difference between apply() and map() in Pandas 1.0\n",
      "Query: How to use React hooks for state management? 1.0\n",
      "Query: How to make an API request with Axios in JavaScript? 1.0\n",
      "Query: I want pasta for dinner 0.6666666666666666\n",
      "Query: coding is very hard 0.8181818181818182\n",
      "Query: ajdejfn code 0.8181818181818182\n",
      "Query: how to make a website 0.17647058823529413\n"
     ]
    }
   ],
   "source": [
    "# analyze if the results are different\n",
    "# Compare the results of the two methods\n",
    "\n",
    "def jaccard_similarity(list1, list2):\n",
    "    set1, set2 = set(list1), set(list2)\n",
    "    intersection = len(set1 & set2)\n",
    "    union = len(set1 | set2)\n",
    "    return intersection / union if union > 0 else 0\n",
    "\n",
    "for query in queries_examples:\n",
    "    print(f\"Query: {query}\", jaccard_similarity(retrieved_docs[query], retrieved_docs_emb[query]))\n",
    "    #compute jaccard similarity\n",
    "    #print(\"Results without expansion:\", retrieved_docs[query])\n",
    "    #print(\"Results with expansion:\", retrieved_docs_emb[query])\n",
    "\n"
   ]
  },
  {
   "cell_type": "markdown",
   "metadata": {},
   "source": [
    "## Other searches"
   ]
  },
  {
   "cell_type": "code",
   "execution_count": 72,
   "metadata": {},
   "outputs": [],
   "source": [
    "def handle_query(query: str, index):\n",
    "    \"\"\"\n",
    "    Handles a search query using Boolean operators AND, OR, and NOT.\n",
    "    \"\"\"\n",
    "\n",
    "    def search(index, term):\n",
    "        \"\"\"Searches for a term in the index and returns document IDs as a set.\"\"\"\n",
    "        term = term.strip()\n",
    "        term_data = index.get(term, {})\n",
    "\n",
    "        # Ensure doc_info exists and is a list of tuples\n",
    "        doc_info = term_data.get(\"doc_info\", [])\n",
    "\n",
    "        if isinstance(doc_info, list):\n",
    "            return set(str(doc_id) for doc_id, _ in doc_info)  # Extract document IDs as strings\n",
    "\n",
    "        return set()\n",
    "\n",
    "    def apply_operator(op, left, right=None):\n",
    "        \"\"\"Applies Boolean operators using set operations.\"\"\"\n",
    "        if op == \"AND\":\n",
    "            return left & right  # Intersection\n",
    "        elif op == \"OR\":\n",
    "            return left | right  # Union\n",
    "        elif op == \"NOT\":\n",
    "            #this can be precomputed - very slow\n",
    "            all_docs = set(doc_id for term_data in index.values() for doc_id in term_data[\"doc_info\"].keys())\n",
    "\n",
    "            return all_docs - right if left is None else left - right  # Complement\n",
    "        return set()\n",
    "\n",
    "    \n",
    "    # Define operator precedence\n",
    "    precedence = {\"NOT\": 3, \"AND\": 2, \"OR\": 1}\n",
    "    operators = []\n",
    "    operands = []\n",
    "    \n",
    "    # Tokenize query (keep case sensitivity)\n",
    "    tokens = query.split()\n",
    "    \n",
    "    for token in tokens:\n",
    "        if token in precedence:\n",
    "            # Apply operators with higher precedence before pushing new ones\n",
    "            while operators and precedence[operators[-1]] >= precedence[token]:\n",
    "                op = operators.pop()\n",
    "                right = operands.pop()\n",
    "                left = operands.pop() if operands else None\n",
    "                operands.append(apply_operator(op, left, right))\n",
    "            operators.append(token)\n",
    "        else:\n",
    "            # Process search terms, ensuring a valid set is stored in operands\n",
    "            operands.append(search(index, token))\n",
    "\n",
    "    # Apply remaining operators\n",
    "    while operators:\n",
    "        op = operators.pop()\n",
    "        right = operands.pop()\n",
    "        left = operands.pop() if operands else None\n",
    "        operands.append(apply_operator(op, left, right))\n",
    "\n",
    "    return sorted(operands.pop()) if operands else \"No matches found\""
   ]
  },
  {
   "cell_type": "code",
   "execution_count": 101,
   "metadata": {},
   "outputs": [],
   "source": [
    "def handle_query(query: str, index):\n",
    "    \"\"\"\n",
    "    Handles a search query using Boolean operators AND, OR, and NOT.\n",
    "    \"\"\"\n",
    "\n",
    "    def search(index, term):\n",
    "        \"\"\"Searches for a term in the index and returns document IDs as a set.\"\"\"\n",
    "        term = term.strip()\n",
    "        term_data = index.get(term, {})\n",
    "\n",
    "        # Ensure doc_info exists and is a list of tuples\n",
    "        doc_info = term_data.get(\"doc_info\", [])\n",
    "\n",
    "        if isinstance(doc_info, list):\n",
    "            return set(str(doc_id) for doc_id, _ in doc_info)  # Extract document IDs as strings\n",
    "\n",
    "        return set()\n",
    "\n",
    "    def apply_operator(op, left, right=None):\n",
    "        \"\"\"Applies Boolean operators using set operations.\"\"\"\n",
    "        if op == \"AND\":\n",
    "            return left & right  # Intersection\n",
    "        elif op == \"OR\":\n",
    "            return left | right  # Union\n",
    "        elif op == \"NOT\":\n",
    "            # can be precomputed\n",
    "            all_docs = set(str(doc_id) for term_data in index.values() for doc_id, _ in term_data.get(\"doc_info\", []))\n",
    "            return all_docs - set(right) if not left else set(left) - set(right)\n",
    "        else:\n",
    "            print(\"No matches found\")\n",
    "            return set()\n",
    "\n",
    "\n",
    "    # Define operator precedence\n",
    "    precedence = {\"NOT\": 3, \"AND\": 2, \"OR\": 1}\n",
    "    operators = []\n",
    "    operands = []\n",
    "    \n",
    "    # Tokenize query (keep case sensitivity)\n",
    "    tokens = query.split()\n",
    "    \n",
    "    for token in tokens:\n",
    "        if token in precedence:\n",
    "            # Apply operators with higher precedence before pushing new ones\n",
    "            while operators and precedence[operators[-1]] >= precedence[token]:\n",
    "                op = operators.pop()\n",
    "                right = operands.pop()\n",
    "                left = operands.pop() if operands else None\n",
    "                operands.append(apply_operator(op, left, right))\n",
    "            operators.append(token)\n",
    "        else:\n",
    "            # Process search terms, ensuring a valid set is stored in operands\n",
    "            operands.append(search(index, token))\n",
    "\n",
    "    # Apply remaining operators\n",
    "    while operators:\n",
    "        op = operators.pop()\n",
    "        right = operands.pop()\n",
    "        left = operands.pop() if operands else None\n",
    "        operands.append(apply_operator(op, left, right))\n",
    "\n",
    "    return sorted(operands.pop()) if operands else \"No matches found\"\n"
   ]
  },
  {
   "cell_type": "code",
   "execution_count": null,
   "metadata": {},
   "outputs": [
    {
     "name": "stdout",
     "output_type": "stream",
     "text": [
      "['419043', '419070']\n",
      "['419043', '419070', '419139', '419210']\n",
      "['419200', '419210', '419250']\n",
      "['419043']\n"
     ]
    }
   ],
   "source": [
    "index_example = {\n",
    "    \"java\": {\n",
    "        \"df\": 55962,\n",
    "        \"doc_info\": [\n",
    "            (\"419043\", [6]), \n",
    "            (\"419070\", [11, 13]), \n",
    "            (\"419139\", [110, 286, 318])\n",
    "        ]\n",
    "    },\n",
    "    \"python\": {\n",
    "        \"df\": 60000,\n",
    "        \"doc_info\": [\n",
    "            (\"419043\", [5, 9]), \n",
    "            (\"419070\", [15, 22]), \n",
    "            (\"419200\", [30, 42])\n",
    "        ]\n",
    "    },\n",
    "    \"c++\": {\n",
    "        \"df\": 45000,\n",
    "        \"doc_info\": [\n",
    "            (\"419043\", [2, 10, 25]), \n",
    "            (\"419139\", [17, 48, 90]), \n",
    "            (\"419210\", [5, 12, 50])\n",
    "        ]\n",
    "    },\n",
    "    \"machine learning\": {\n",
    "        \"df\": 35000,\n",
    "        \"doc_info\": [\n",
    "            (\"419070\", [3, 14, 50]), \n",
    "            (\"419139\", [9, 27, 100]), \n",
    "            (\"419250\", [1, 5, 10])\n",
    "        ]\n",
    "    }\n",
    "}\n",
    "\n",
    "print(handle_query(\"java AND python\", index_example))\n",
    "print(handle_query(\"java OR c++\", index_example))\n",
    "print(handle_query(\"NOT java\", index_example))\n",
    "print(handle_query(\"python AND c++ AND java\", index_example))\n"
   ]
  },
  {
   "cell_type": "code",
   "execution_count": 75,
   "metadata": {},
   "outputs": [
    {
     "name": "stdout",
     "output_type": "stream",
     "text": [
      "Query: data AND science\n",
      "Results: []\n",
      "\n",
      "\n",
      "Query: machine AND learning OR programming\n"
     ]
    },
    {
     "ename": "KeyboardInterrupt",
     "evalue": "",
     "output_type": "error",
     "traceback": [
      "\u001b[1;31m---------------------------------------------------------------------------\u001b[0m",
      "\u001b[1;31mKeyboardInterrupt\u001b[0m                         Traceback (most recent call last)",
      "Cell \u001b[1;32mIn[75], line 3\u001b[0m\n\u001b[0;32m      1\u001b[0m \u001b[38;5;28;01mfor\u001b[39;00m query \u001b[38;5;129;01min\u001b[39;00m queries_examples_boolean:\n\u001b[0;32m      2\u001b[0m     \u001b[38;5;28mprint\u001b[39m(\u001b[38;5;124m\"\u001b[39m\u001b[38;5;124mQuery:\u001b[39m\u001b[38;5;124m\"\u001b[39m, query)\n\u001b[1;32m----> 3\u001b[0m     \u001b[38;5;28mprint\u001b[39m(\u001b[38;5;124m\"\u001b[39m\u001b[38;5;124mResults:\u001b[39m\u001b[38;5;124m\"\u001b[39m, handle_query(query, index\u001b[38;5;241m.\u001b[39mget_index()))\n\u001b[0;32m      4\u001b[0m     \u001b[38;5;28mprint\u001b[39m(\u001b[38;5;124m\"\u001b[39m\u001b[38;5;130;01m\\n\u001b[39;00m\u001b[38;5;124m\"\u001b[39m)\n",
      "Cell \u001b[1;32mIn[74], line 30\u001b[0m, in \u001b[0;36mhandle_query\u001b[1;34m(query, index)\u001b[0m\n\u001b[0;32m     27\u001b[0m     \u001b[38;5;28;01mreturn\u001b[39;00m \u001b[38;5;28mset\u001b[39m()\n\u001b[0;32m     29\u001b[0m \u001b[38;5;66;03m# Precompute all document IDs for NOT operations (avoids recomputation inside `NOT`)\u001b[39;00m\n\u001b[1;32m---> 30\u001b[0m all_docs \u001b[38;5;241m=\u001b[39m \u001b[38;5;28mset\u001b[39m(\u001b[38;5;28mstr\u001b[39m(doc_id) \u001b[38;5;28;01mfor\u001b[39;00m term_data \u001b[38;5;129;01min\u001b[39;00m index\u001b[38;5;241m.\u001b[39mvalues() \u001b[38;5;28;01mfor\u001b[39;00m doc_id, _ \u001b[38;5;129;01min\u001b[39;00m term_data\u001b[38;5;241m.\u001b[39mget(\u001b[38;5;124m\"\u001b[39m\u001b[38;5;124mdoc_info\u001b[39m\u001b[38;5;124m\"\u001b[39m, []))\n\u001b[0;32m     32\u001b[0m \u001b[38;5;66;03m# Define operator precedence\u001b[39;00m\n\u001b[0;32m     33\u001b[0m precedence \u001b[38;5;241m=\u001b[39m {\u001b[38;5;124m\"\u001b[39m\u001b[38;5;124mNOT\u001b[39m\u001b[38;5;124m\"\u001b[39m: \u001b[38;5;241m3\u001b[39m, \u001b[38;5;124m\"\u001b[39m\u001b[38;5;124mAND\u001b[39m\u001b[38;5;124m\"\u001b[39m: \u001b[38;5;241m2\u001b[39m, \u001b[38;5;124m\"\u001b[39m\u001b[38;5;124mOR\u001b[39m\u001b[38;5;124m\"\u001b[39m: \u001b[38;5;241m1\u001b[39m}\n",
      "Cell \u001b[1;32mIn[74], line 30\u001b[0m, in \u001b[0;36m<genexpr>\u001b[1;34m(.0)\u001b[0m\n\u001b[0;32m     27\u001b[0m     \u001b[38;5;28;01mreturn\u001b[39;00m \u001b[38;5;28mset\u001b[39m()\n\u001b[0;32m     29\u001b[0m \u001b[38;5;66;03m# Precompute all document IDs for NOT operations (avoids recomputation inside `NOT`)\u001b[39;00m\n\u001b[1;32m---> 30\u001b[0m all_docs \u001b[38;5;241m=\u001b[39m \u001b[38;5;28mset\u001b[39m(\u001b[38;5;28mstr\u001b[39m(doc_id) \u001b[38;5;28;01mfor\u001b[39;00m term_data \u001b[38;5;129;01min\u001b[39;00m index\u001b[38;5;241m.\u001b[39mvalues() \u001b[38;5;28;01mfor\u001b[39;00m doc_id, _ \u001b[38;5;129;01min\u001b[39;00m term_data\u001b[38;5;241m.\u001b[39mget(\u001b[38;5;124m\"\u001b[39m\u001b[38;5;124mdoc_info\u001b[39m\u001b[38;5;124m\"\u001b[39m, []))\n\u001b[0;32m     32\u001b[0m \u001b[38;5;66;03m# Define operator precedence\u001b[39;00m\n\u001b[0;32m     33\u001b[0m precedence \u001b[38;5;241m=\u001b[39m {\u001b[38;5;124m\"\u001b[39m\u001b[38;5;124mNOT\u001b[39m\u001b[38;5;124m\"\u001b[39m: \u001b[38;5;241m3\u001b[39m, \u001b[38;5;124m\"\u001b[39m\u001b[38;5;124mAND\u001b[39m\u001b[38;5;124m\"\u001b[39m: \u001b[38;5;241m2\u001b[39m, \u001b[38;5;124m\"\u001b[39m\u001b[38;5;124mOR\u001b[39m\u001b[38;5;124m\"\u001b[39m: \u001b[38;5;241m1\u001b[39m}\n",
      "\u001b[1;31mKeyboardInterrupt\u001b[0m: "
     ]
    }
   ],
   "source": [
    "for query in queries_examples_boolean:\n",
    "    print(\"Query:\", query)\n",
    "    print(\"Results:\", handle_query(query, index.get_index()))\n",
    "    print(\"\\n\")"
   ]
  },
  {
   "cell_type": "markdown",
   "metadata": {},
   "source": [
    "## Evaluation\n",
    "First using the clarity score and then with Jaccobian/cosine similarity of the documents <br>\n",
    "**Clarity scores are all positive** :  A higher Clarity Score means the query retrieves more distinct and focused documents, while a lower score suggests the retrieved documents are more generic or similar to the background corpus <br>\n",
    "**Jaccobian/cosine similarity** : Measures the similarity between the retrieved documents"
   ]
  },
  {
   "cell_type": "code",
   "execution_count": null,
   "metadata": {},
   "outputs": [
    {
     "name": "stdout",
     "output_type": "stream",
     "text": [
      "Clarity Score for 'TypeError: 'NoneType' object is not subscriptable in Python': 2.2356\n",
      "Clarity Score for 'NullPointerException handling in Java': 2.5564\n",
      "Clarity Score for 'ModuleNotFoundError: No module named 'requests'': 2.6116\n",
      "Clarity Score for 'Segmentation fault in C++': 2.4958\n",
      "Clarity Score for 'SyntaxError: invalid syntax near 'elif'': 2.5540\n",
      "Clarity Score for 'Difference between DFS and BFS algorithms': 3.0122\n",
      "Clarity Score for 'How does garbage collection work in Java?': 2.6428\n",
      "Clarity Score for 'What is tail recursion, and how does it optimize memory': 3.0685\n",
      "Clarity Score for 'What are strong and weak references in Python?': 2.3415\n",
      "Clarity Score for 'Explain dynamic programming with an example': 2.8331\n",
      "Clarity Score for 'Best way to concatenate strings in Python': 2.5238\n",
      "Clarity Score for 'How to optimize SQL queries for large datasets?': 2.6725\n",
      "Clarity Score for 'When to use pointers in C++?': 2.4395\n",
      "Clarity Score for 'Why is binary search faster than linear search?': 2.8197\n",
      "Clarity Score for 'How to improve performance of nested loops in Java?': 3.0371\n",
      "Clarity Score for 'How to use Pandas groupby with multiple columns?': 2.7609\n",
      "Clarity Score for 'What does std::move do in C++?': 2.7783\n",
      "Clarity Score for 'Difference between apply() and map() in Pandas': 3.3921\n",
      "Clarity Score for 'How to use React hooks for state management?': 3.0654\n",
      "Clarity Score for 'How to make an API request with Axios in JavaScript?': 3.0447\n",
      "Clarity Score for 'I want pasta for dinner': 1.9274\n",
      "Clarity Score for 'coding is very hard': 2.3859\n",
      "Clarity Score for 'ajdejfn code': 2.9844\n",
      "Clarity Score for 'how to make a website': 3.4507\n",
      "Clarity Score for 'TypeError: 'NoneType' object is not subscriptable in Python': 2.2356\n",
      "Clarity Score for 'NullPointerException handling in Java': 2.4271\n",
      "Clarity Score for 'ModuleNotFoundError: No module named 'requests'': 2.6116\n",
      "Clarity Score for 'Segmentation fault in C++': 2.4497\n",
      "Clarity Score for 'SyntaxError: invalid syntax near 'elif'': 2.4751\n",
      "Clarity Score for 'Difference between DFS and BFS algorithms': 3.0122\n",
      "Clarity Score for 'How does garbage collection work in Java?': 2.6428\n",
      "Clarity Score for 'What is tail recursion, and how does it optimize memory': 3.0685\n",
      "Clarity Score for 'What are strong and weak references in Python?': 2.3415\n",
      "Clarity Score for 'Explain dynamic programming with an example': 2.8465\n",
      "Clarity Score for 'Best way to concatenate strings in Python': 2.5238\n",
      "Clarity Score for 'How to optimize SQL queries for large datasets?': 2.6725\n",
      "Clarity Score for 'When to use pointers in C++?': 2.9465\n",
      "Clarity Score for 'Why is binary search faster than linear search?': 2.8197\n",
      "Clarity Score for 'How to improve performance of nested loops in Java?': 3.0371\n",
      "Clarity Score for 'How to use Pandas groupby with multiple columns?': 2.7609\n",
      "Clarity Score for 'What does std::move do in C++?': 2.2843\n",
      "Clarity Score for 'Difference between apply() and map() in Pandas': 3.3921\n",
      "Clarity Score for 'How to use React hooks for state management?': 3.0654\n",
      "Clarity Score for 'How to make an API request with Axios in JavaScript?': 3.0447\n",
      "Clarity Score for 'I want pasta for dinner': 2.1173\n",
      "Clarity Score for 'coding is very hard': 2.5036\n",
      "Clarity Score for 'ajdejfn code': 2.8534\n",
      "Clarity Score for 'how to make a website': 2.6743\n"
     ]
    }
   ],
   "source": [
    "import math\n",
    "from collections import Counter\n",
    "\n",
    "def load_document_terms(file_path, retrieved_docs):\n",
    "    \"\"\"\n",
    "    Reads document terms from `document_terms.txt` and extracts terms for retrieved documents.\n",
    "    Returns : Counter: A term frequency counter for retrieved documents.\n",
    "    \"\"\"\n",
    "    retrieved_vocab = Counter()\n",
    "\n",
    "    with open(file_path, \"r\", encoding=\"utf-8\") as file:\n",
    "        for line in file:\n",
    "            parts = line.strip().split(\":\")\n",
    "            if len(parts) < 2:\n",
    "                continue  # Skip malformed lines\n",
    "            \n",
    "            doc_id = parts[0].strip()\n",
    "            if doc_id in retrieved_docs:  # Process only retrieved documents\n",
    "                terms = parts[1].split()\n",
    "                retrieved_vocab.update(terms)  # Count term frequencies\n",
    "\n",
    "    return retrieved_vocab\n",
    "\n",
    "\n",
    "def compute_clarity_score(document_terms_file, retrieved_docs, index):\n",
    "    \"\"\"\n",
    "    Computes the Clarity Score using KL divergence efficiently with `document_terms.txt`.\n",
    "\n",
    "    Args:\n",
    "        document_terms_file (str): Path to the `document_terms.txt` file.\n",
    "        retrieved_docs (list): List of retrieved document IDs.\n",
    "        index (dict): The inverted index with term document frequency (df).\n",
    "\n",
    "    Returns:\n",
    "        float: Clarity Score (higher means query is more specific).\n",
    "    \"\"\"\n",
    "\n",
    "    # extract terms for retrieved documents -> this is way more efficient that going through index file\n",
    "    retrieved_vocab = load_document_terms(document_terms_file, set(retrieved_docs))\n",
    "\n",
    "    # compute probability distribution for retrieved terms\n",
    "    total_retrieved_terms = sum(retrieved_vocab.values())\n",
    "    if total_retrieved_terms == 0:\n",
    "        return 0  \n",
    "\n",
    "    retrieved_probs = {term: count / total_retrieved_terms for term, count in retrieved_vocab.items()}\n",
    "\n",
    "    # Compute Clarity Score using document frequency (df) from index\n",
    "    total_docs = sum(term_data[\"df\"] for term_data in index.values())  # Total number of docs in index\n",
    "    clarity_score = 0.0\n",
    "\n",
    "    for term, p_retrieved in retrieved_probs.items():\n",
    "        p_corpus = index.get(term, {}).get(\"df\", 1e-12) / total_docs  # Use DF as corpus probability\n",
    "        clarity_score += p_retrieved * math.log(p_retrieved / p_corpus)\n",
    "\n",
    "    return clarity_score\n",
    "\n",
    "# Compute Clarity Scores : they all seem positive and good \n",
    "\n",
    "documents_list = retrieved_docs\n",
    "\n",
    "for query in queries_examples:\n",
    "    clarity_score = compute_clarity_score(\"data/document_terms.txt\", documents_list[query], index.get_index())\n",
    "    print(f\"Clarity Score for '{query}': {clarity_score:.4f}\")\n",
    "\n",
    "\n",
    "#higher clarity scores - makes sense as the expansion should make the query more specific\n",
    "\n",
    "#need to visualize the tradeoff with the number of added words!\n",
    "documents_list = retrieved_docs_emb\n",
    "\n",
    "print(\"Results with expansion:\")\n",
    "for query in queries_examples:\n",
    "    clarity_score = compute_clarity_score(\"data/document_terms.txt\", documents_list[query], index.get_index())\n",
    "    print(f\"Clarity Score for '{query}': {clarity_score:.4f}\")\n"
   ]
  },
  {
   "cell_type": "code",
   "execution_count": null,
   "metadata": {},
   "outputs": [
    {
     "name": "stdout",
     "output_type": "stream",
     "text": [
      "Similarities for 'TypeError: 'NoneType' object is not subscriptable in Python': {'Average Jaccard Similarity': 0.05632541946569733, 'Average Cosine Similarity': 0.11966260768140392}\n",
      "Similarities for 'NullPointerException handling in Java': {'Average Jaccard Similarity': 0.09270600714378863, 'Average Cosine Similarity': 0.18105303962727817}\n",
      "No retrieved documents for 'ModuleNotFoundError: No module named 'requests''\n",
      "Similarities for 'Segmentation fault in C++': {'Average Jaccard Similarity': 0.03873586873869889, 'Average Cosine Similarity': 0.08172648816543192}\n",
      "Similarities for 'SyntaxError: invalid syntax near 'elif'': {'Average Jaccard Similarity': 0.07332165149680576, 'Average Cosine Similarity': 0.1482536039022934}\n",
      "Similarities for 'Difference between DFS and BFS algorithms': {'Average Jaccard Similarity': 0.0907343787417974, 'Average Cosine Similarity': 0.1708309952282187}\n",
      "Similarities for 'How does garbage collection work in Java?': {'Average Jaccard Similarity': 0.03617327529994029, 'Average Cosine Similarity': 0.07749165193667451}\n",
      "Similarities for 'What is tail recursion, and how does it optimize memory': {'Average Jaccard Similarity': 0.022154648183262474, 'Average Cosine Similarity': 0.048157608348669}\n",
      "Similarities for 'What are strong and weak references in Python?': {'Average Jaccard Similarity': 0.0418999959121485, 'Average Cosine Similarity': 0.08501784242001671}\n",
      "Similarities for 'Explain dynamic programming with an example': {'Average Jaccard Similarity': 0.06736352494758051, 'Average Cosine Similarity': 0.12044178823168582}\n",
      "Similarities for 'Best way to concatenate strings in Python': {'Average Jaccard Similarity': 0.04914520568439332, 'Average Cosine Similarity': 0.10465897111518872}\n",
      "Similarities for 'How to optimize SQL queries for large datasets?': {'Average Jaccard Similarity': 0.04373615414812933, 'Average Cosine Similarity': 0.10206432121410697}\n",
      "Similarities for 'When to use pointers in C++?': {'Average Jaccard Similarity': 0.033794170431375045, 'Average Cosine Similarity': 0.07103800410435925}\n",
      "Similarities for 'Why is binary search faster than linear search?': {'Average Jaccard Similarity': 0.07266787613061966, 'Average Cosine Similarity': 0.15442402911067354}\n",
      "Similarities for 'How to improve performance of nested loops in Java?': {'Average Jaccard Similarity': 0.05977746798828653, 'Average Cosine Similarity': 0.11995763321032885}\n",
      "Similarities for 'How to use Pandas groupby with multiple columns?': {'Average Jaccard Similarity': 0.031435706766046685, 'Average Cosine Similarity': 0.07129522813393883}\n",
      "Similarities for 'What does std::move do in C++?': {'Average Jaccard Similarity': 0.04223326926020822, 'Average Cosine Similarity': 0.0846437657695771}\n",
      "Similarities for 'Difference between apply() and map() in Pandas': {'Average Jaccard Similarity': 0.01853465206664935, 'Average Cosine Similarity': 0.04024370616785156}\n",
      "Similarities for 'How to use React hooks for state management?': {'Average Jaccard Similarity': 0.036921195666239325, 'Average Cosine Similarity': 0.08012747313999867}\n",
      "Similarities for 'How to make an API request with Axios in JavaScript?': {'Average Jaccard Similarity': 0.07516330710180519, 'Average Cosine Similarity': 0.13123016720895966}\n",
      "Similarities for 'I want pasta for dinner': {'Average Jaccard Similarity': 0.08665962319232261, 'Average Cosine Similarity': 0.16541852854501823}\n",
      "Similarities for 'coding is very hard': {'Average Jaccard Similarity': 0.04199911391141868, 'Average Cosine Similarity': 0.09659388033220101}\n",
      "Similarities for 'ajdejfn code': {'Average Jaccard Similarity': 0.047262429660879894, 'Average Cosine Similarity': 0.0877322225396663}\n",
      "Similarities for 'how to make a website': {'Average Jaccard Similarity': 0.02827538236796977, 'Average Cosine Similarity': 0.06172036429735676}\n"
     ]
    }
   ],
   "source": [
    "import itertools\n",
    "import numpy as np\n",
    "from collections import Counter\n",
    "from sklearn.metrics.pairwise import cosine_similarity\n",
    "\n",
    "def load_document_terms(file_path, retrieved_docs):\n",
    "    \"\"\"\n",
    "    Reads `document_terms.txt` and extracts terms for retrieved documents.\n",
    "\n",
    "    Args:\n",
    "        file_path (str): Path to the document terms file.\n",
    "        retrieved_docs (set): A set of retrieved document IDs.\n",
    "\n",
    "    Returns:\n",
    "        dict: A dictionary where keys are doc IDs and values are term lists.\n",
    "    \"\"\"\n",
    "    doc_terms = {}\n",
    "    doc_lengths = {}  # Store document lengths for normalization\n",
    "\n",
    "    with open(file_path, \"r\", encoding=\"utf-8\") as file:\n",
    "        for line in file:\n",
    "            parts = line.strip().split(\":\")\n",
    "            if len(parts) < 2:\n",
    "                continue  # Skip malformed lines\n",
    "            \n",
    "            doc_id = parts[0].strip()\n",
    "            if doc_id in retrieved_docs:  # Process only retrieved documents\n",
    "                terms = parts[1].split()\n",
    "                doc_terms[doc_id] = terms\n",
    "                doc_lengths[doc_id] = len(terms)  # Store document length\n",
    "\n",
    "    return doc_terms, doc_lengths\n",
    "\n",
    "\n",
    "def jaccard_similarity(doc1_terms, doc2_terms):\n",
    "    \"\"\"\n",
    "    Computes Jaccard Similarity with length normalization.\n",
    "    J(A, B) = |A ∩ B| / |A ∪ B|\n",
    "    \"\"\"\n",
    "    intersection = len(set(doc1_terms) & set(doc2_terms))\n",
    "    union = len(set(doc1_terms) | set(doc2_terms))\n",
    "    return intersection / union if union != 0 else 0.0\n",
    "\n",
    "\n",
    "def compute_document_similarities(document_terms_file, retrieved_docs):\n",
    "    \"\"\"\n",
    "    Computes pairwise Jaccard & Cosine Similarity between retrieved documents with length normalization.\n",
    "\n",
    "    Args:\n",
    "        document_terms_file (str): Path to `document_terms.txt`.\n",
    "        retrieved_docs (list): List of retrieved document IDs.\n",
    "\n",
    "    Returns:\n",
    "        dict: Average Jaccard & Cosine similarity.\n",
    "    \"\"\"\n",
    "\n",
    "    # load documents and lengths -> we want to normalize!\n",
    "    doc_terms, doc_lengths = load_document_terms(document_terms_file, set(retrieved_docs))\n",
    "    doc_ids = list(doc_terms.keys())\n",
    "\n",
    "    # compute Jaccard Similarity and take the mean\n",
    "    jaccard_scores = []\n",
    "    for doc1, doc2 in itertools.combinations(doc_ids, 2):\n",
    "        jaccard_scores.append(jaccard_similarity(doc_terms[doc1], doc_terms[doc2]))\n",
    "\n",
    "    avg_jaccard = np.mean(jaccard_scores) if jaccard_scores else 0.0\n",
    "\n",
    "    #  compute Cosine Similarity \n",
    "    all_terms = sorted(set(term for terms in doc_terms.values() for term in terms))  # Unique terms\n",
    "    term_index = {term: i for i, term in enumerate(all_terms)}\n",
    "\n",
    "    doc_vectors = []\n",
    "    avg_doc_length = np.mean(list(doc_lengths.values())) if doc_lengths else 1\n",
    "\n",
    "    for doc_id in doc_ids:\n",
    "        term_freq = Counter(doc_terms[doc_id])  # Count term occurrences\n",
    "        vector = np.zeros(len(all_terms))\n",
    "        for term, freq in term_freq.items():\n",
    "            # Apply BM25-style document length normalization\n",
    "            normalized_tf = freq / (freq + 1.5 * (1 - 0.75 + 0.75 * (doc_lengths[doc_id] / avg_doc_length)))\n",
    "            vector[term_index[term]] = normalized_tf\n",
    "        doc_vectors.append(vector)\n",
    "\n",
    "    doc_vectors = np.array(doc_vectors)\n",
    "    cosine_sim_matrix = cosine_similarity(doc_vectors)\n",
    "\n",
    "    # Compute average pairwise cosine similarity\n",
    "    cosine_scores = []\n",
    "    for i in range(len(doc_ids)):\n",
    "        for j in range(i + 1, len(doc_ids)):\n",
    "            cosine_scores.append(cosine_sim_matrix[i, j])\n",
    "\n",
    "    avg_cosine = np.mean(cosine_scores) if cosine_scores else 0.0\n",
    "\n",
    "    return {\n",
    "        \"Average Jaccard Similarity\": avg_jaccard,\n",
    "        \"Average Cosine Similarity\": avg_cosine\n",
    "    }\n",
    "\n",
    "for query in queries_examples:\n",
    "    if retrieved_docs[query]:\n",
    "        similarities = compute_document_similarities(\"data/document_terms.txt\", retrieved_docs[query])\n",
    "        print(f\"Similarities for '{query}': {similarities}\")\n",
    "    else:\n",
    "        print(f\"No retrieved documents for '{query}'\")"
   ]
  },
  {
   "cell_type": "markdown",
   "metadata": {},
   "source": [
    "## Reranked based on metadata"
   ]
  },
  {
   "cell_type": "code",
   "execution_count": null,
   "metadata": {},
   "outputs": [
    {
     "name": "stdout",
     "output_type": "stream",
     "text": [
      "initial list\n",
      "['1490039', '1308079', '631788', '1689012', '1449620', '1689145', '768941', '1115313', '1772491', '550585', '550915', '768956', '1529527', '1689139', '999182', '1728697', '550868', '1223197', '1601656', '506956']\n",
      "after reranking\n",
      "['1115313', '631788', '506956', '768956', '1490039', '550915', '999182', '550868', '550585', '768941', '1223197', '1689145', '1308079', '1601656', '1449620', '1529527', '1689012', '1689139', '1772491', '1728697']\n",
      "initial list\n",
      "['1345786', '1264818', '1733292', '1184789', '1366832', '767009', '1028892', '1607800', '1697522', '961538', '1125604', '1580091', '1593100', '609329', '1259460', '580511', '1514112', '1533812', '841292', '1711103']\n",
      "after reranking\n",
      "['1580091', '580511', '609329', '1533812', '767009', '841292', '1125604', '961538', '1028892', '1264818', '1184789', '1345786', '1259460', '1366832', '1593100', '1514112', '1607800', '1697522', '1733292', '1711103']\n",
      "initial list\n",
      "[]\n",
      "after reranking\n",
      "⚠ Warning: No retrieved documents found in metadata.\n",
      "[]\n",
      "initial list\n",
      "['818020', '816834', '1731441', '1477365', '1790201', '742549', '1251464', '960382', '1119373', '1649067', '868899', '1252791', '1406660', '1536440', '730005', '1529527', '823171', '1296726', '729985', '1536275']\n",
      "after reranking\n",
      "['960382', '1252791', '816834', '742549', '818020', '730005', '729985', '823171', '868899', '1649067', '1119373', '1251464', '1296726', '1536440', '1529527', '1536275', '1406660', '1477365', '1790201', '1731441']\n",
      "initial list\n",
      "['1452239', '730064', '756384', '937491', '1256311', '971177', '1111227', '829798', '829916', '491999', '1432968', '826948', '1227605', '696889', '584284', '614993', '1776176', '659061', '1396782', '1291502']\n",
      "after reranking\n",
      "['826948', '937491', '584284', '491999', '1776176', '971177', '614993', '659061', '696889', '730064', '829798', '756384', '829916', '1111227', '1256311', '1227605', '1291502', '1396782', '1432968', '1452239']\n",
      "initial list\n",
      "['1658569', '1432429', '1567015', '694369', '820054', '1054626', '590393', '754448', '844822', '1432093', '862624', '1432024', '1636119', '1383231', '1403484', '827647', '1657167', '1657248', '1434787', '1150723']\n",
      "after reranking\n",
      "['694369', '1434787', '754448', '862624', '590393', '820054', '827647', '844822', '1054626', '1150723', '1383231', '1657248', '1657167', '1432429', '1432024', '1432093', '1403484', '1658569', '1636119', '1567015']\n",
      "initial list\n",
      "['829525', '1268725', '823764', '1790201', '1595849', '1452953', '765129', '630056', '1099837', '1251706', '1050889', '742549', '896840', '827121', '579255', '1251464', '1571771', '709949', '960382', '1366832']\n",
      "after reranking\n",
      "['960382', '765129', '742549', '579255', '709949', '827121', '896840', '630056', '1099837', '1050889', '829525', '823764', '1251706', '1251464', '1268725', '1452953', '1790201', '1595849', '1366832', '1571771']\n",
      "initial list\n",
      "['1309138', '846862', '829525', '1218241', '1153609', '715807', '1698916', '810931', '841713', '1595849', '765129', '630056', '887969', '1099837', '1297563', '1335257', '890461', '1183155', '1097093', '1106789']\n",
      "after reranking\n",
      "['1153609', '890461', '765129', '1099837', '630056', '715807', '1309138', '841713', '810931', '1218241', '846862', '829525', '887969', '1097093', '1106789', '1183155', '1335257', '1297563', '1595849', '1698916']\n",
      "initial list\n",
      "['740943', '927179', '1088350', '1263783', '585004', '824002', '1410832', '1774106', '1351664', '1611961', '1546960', '859200', '632159', '1786635', '846862', '1587348', '1072548', '597664', '1109611', '1253861']\n",
      "after reranking\n",
      "['1410832', '1072548', '585004', '597664', '740943', '632159', '824002', '1774106', '859200', '927179', '846862', '1109611', '1088350', '1786635', '1546960', '1253861', '1351664', '1263783', '1587348', '1611961']\n",
      "initial list\n",
      "['1724137', '1547201', '1547196', '1724304', '1271643', '1516174', '1547210', '1285655', '1529201', '1289174', '1091524', '1289099', '1547224', '562770', '1289135', '1736340', '1737786', '1288985', '1737763', '1288904']\n",
      "after reranking\n",
      "['1547210', '1271643', '1288985', '1547196', '562770', '1289135', '1289099', '1091524', '1285655', '1289174', '1529201', '1288904', '1516174', '1737786', '1547224', '1547201', '1736340', '1724304', '1724137', '1737763']\n",
      "initial list\n",
      "['994671', '631788', '533768', '1115313', '1529527', '1728697', '1504378', '749796', '1547019', '1067806', '1646326', '1264818', '1027739', '1623039', '745600', '1520897', '1593100', '768634', '566875', '951974']\n",
      "after reranking\n",
      "['749796', '533768', '1027739', '566875', '1115313', '631788', '768634', '1623039', '745600', '994671', '1067806', '951974', '1264818', '1504378', '1547019', '1646326', '1529527', '1520897', '1593100', '1728697']\n",
      "initial list\n",
      "['829525', '1307149', '1246261', '1771987', '1126083', '1595849', '765129', '630056', '1099837', '1387453', '1113029', '896840', '827121', '709949', '842467', '1168068', '791180', '893089', '1536850', '845243']\n",
      "after reranking\n",
      "['765129', '896840', '893089', '1307149', '709949', '827121', '845243', '630056', '1113029', '791180', '1099837', '842467', '829525', '1126083', '1246261', '1168068', '1595849', '1387453', '1771987', '1536850']\n",
      "initial list\n",
      "['786163', '1251706', '786235', '585363', '988763', '765054', '1790201', '742549', '1217479', '1251464', '960382', '1512688', '1251676', '1119373', '1649067', '1406660', '1268185', '1529527', '1346607', '780354']\n",
      "after reranking\n",
      "['960382', '765054', '786235', '786163', '742549', '585363', '780354', '1649067', '1512688', '988763', '1529527', '1119373', '1217479', '1251706', '1251464', '1346607', '1268185', '1251676', '1790201', '1406660']\n",
      "initial list\n",
      "['545003', '721797', '1275665', '1275799', '700241', '1233667', '1602944', '1727208', '750433', '1505510', '1727364', '750416', '1632209', '904641', '700263', '1374117', '796517', '1550970', '1744188', '868000']\n",
      "after reranking\n",
      "['700263', '700241', '1602944', '545003', '868000', '750416', '721797', '750433', '796517', '904641', '1275665', '1233667', '1275799', '1374117', '1505510', '1550970', '1727364', '1632209', '1727208', '1744188']\n",
      "initial list\n",
      "['1176423', '1350261', '1479089', '730848', '1387726', '745765', '778397', '1133205', '642228', '1404310', '1378428', '829525', '1148880', '1253942', '1408644', '619110', '1486823', '1568019', '1083784', '1236556']\n",
      "after reranking\n",
      "['730848', '619110', '1148880', '1176423', '1387726', '1378428', '778397', '642228', '745765', '1253942', '1083784', '1236556', '1350261', '829525', '1133205', '1568019', '1408644', '1479089', '1404310', '1486823']\n",
      "initial list\n",
      "['892296', '1113038', '829525', '1234550', '1508979', '1658880', '1595849', '579255', '765129', '630056', '1606320', '1099837', '565309', '1532236', '896840', '885152', '1242130', '827121', '709949', '1168068']\n",
      "after reranking\n",
      "['827121', '896840', '1606320', '765129', '1099837', '579255', '565309', '630056', '709949', '885152', '1113038', '1234550', '829525', '892296', '1168068', '1242130', '1595849', '1532236', '1508979', '1658880']\n",
      "initial list\n",
      "['1519597', '1168200', '1050889', '818020', '1790201', '742549', '1415335', '1436035', '1251464', '1602852', '1278730', '960382', '835651', '682505', '1119373', '1649067', '1439824', '1406660', '1172820', '1687479']\n",
      "after reranking\n",
      "['960382', '682505', '742549', '1278730', '1415335', '818020', '1172820', '835651', '1439824', '1050889', '1649067', '1168200', '1119373', '1251464', '1790201', '1406660', '1436035', '1519597', '1687479', '1602852']\n",
      "initial list\n",
      "['1567015', '846862', '901098', '703931', '1218241', '1698916', '810931', '1199490', '1790201', '742549', '1148238', '1251464', '960382', '1119373', '1649067', '993666', '1406660', '1230214', '871704', '1202062']\n",
      "after reranking\n",
      "['960382', '1199490', '742549', '703931', '993666', '810931', '846862', '871704', '901098', '1649067', '1218241', '1148238', '1119373', '1230214', '1251464', '1790201', '1567015', '1698916', '1202062', '1406660']\n",
      "initial list\n",
      "['829525', '1234550', '1771987', '1595849', '765129', '630056', '1099837', '1532236', '690121', '1113029', '896840', '885152', '827121', '709949', '671250', '842467', '1168068', '1030530', '893089', '1536850']\n",
      "after reranking\n",
      "['690121', '765129', '896840', '709949', '893089', '630056', '885152', '827121', '671250', '1113029', '829525', '842467', '1030530', '1099837', '1234550', '1168068', '1595849', '1532236', '1536850', '1771987']\n",
      "initial list\n",
      "['1547201', '1547196', '1724304', '1724137', '1516174', '1547210', '1285655', '1529201', '1289174', '1289099', '1547224', '562770', '829525', '1289135', '1736340', '1737786', '1288985', '1751048', '1737763', '1288904']\n",
      "after reranking\n",
      "['1547210', '1751048', '1288985', '1289135', '562770', '1547196', '829525', '1289099', '1285655', '1529201', '1289174', '1288904', '1737786', '1516174', '1547224', '1547201', '1736340', '1724304', '1724137', '1737763']\n",
      "initial list\n",
      "['598370', '691795', '679049', '1017046', '589358', '950412', '1206005', '849900', '1035895', '908521', '1771806', '1084009', '858735', '939890', '1103573', '1742904', '1105382', '1308757', '959620', '1135382']\n",
      "after reranking\n",
      "['1308757', '1017046', '1105382', '679049', '908521', '691795', '589358', '849900', '598370', '858735', '1135382', '1103573', '950412', '939890', '959620', '1035895', '1084009', '1206005', '1771806', '1742904']\n",
      "initial list\n",
      "['967819', '791750', '1059895', '881871', '789811', '767778', '935224', '876985', '828294', '817297', '1499116', '1672478', '739283', '1531795', '695347', '844088', '1688740', '588990', '828207', '1137178']\n",
      "after reranking\n",
      "['588990', '817297', '739283', '1531795', '828207', '789811', '935224', '881871', '828294', '1059895', '767778', '791750', '844088', '876985', '967819', '695347', '1137178', '1499116', '1688740', '1672478']\n",
      "initial list\n",
      "['796224', '1358525', '682310', '508002', '924898', '1358531', '1522476', '912207', '1523515', '1523147', '706964', '1358530', '589554', '1563068', '1355015', '1405985', '1210539', '1358527', '1637385', '1013063']\n",
      "after reranking\n",
      "['682310', '508002', '1523515', '706964', '1405985', '1013063', '796224', '1563068', '589554', '1358525', '912207', '1358530', '1523147', '924898', '1210539', '1355015', '1358531', '1522476', '1358527', '1637385']\n",
      "initial list\n",
      "['747929', '659184', '498152', '829525', '616617', '1151345', '492006', '579255', '1595849', '765129', '630056', '1378790', '1099837', '896840', '827121', '1253656', '709949', '1379088', '651571', '618916']\n",
      "after reranking\n",
      "['659184', '492006', '1151345', '765129', '651571', '827121', '498152', '616617', '579255', '709949', '1099837', '630056', '896840', '747929', '829525', '618916', '1379088', '1378790', '1253656', '1595849']\n"
     ]
    }
   ],
   "source": [
    "#the reranker ranks mostly every time differently than the initial retrieval\n",
    "\n",
    "reranked = Reranker()\n",
    "#print(reranked.metadata)\n",
    "reranked.metadata[\"id\"] = reranked.metadata[\"id\"].astype(str).str.strip()\n",
    "reranked.metadata.fillna(0,inplace=True)\n",
    "reranked_doc_list={}\n",
    "for key,retrieved_docs_list in retrieved_docs.items():\n",
    "    print(\"initial list\")\n",
    "    print(retrieved_docs_list)\n",
    "    if retrieved_docs_list!=\"No relevant documents found for this query.\":\n",
    "        print(\"after reranking\")\n",
    "        reranked_doc_list[key]=reranked.rerank(retrieved_docs_list)\n",
    "        print(reranked_doc_list[key])\n",
    "    else:\n",
    "        print(\"no reranking\")\n"
   ]
  },
  {
   "cell_type": "code",
   "execution_count": null,
   "metadata": {},
   "outputs": [
    {
     "name": "stdout",
     "output_type": "stream",
     "text": [
      "Query: TypeError: 'NoneType' object is not subscriptable in Python\n",
      "Kendall's Tau: 0.010526315789473684\n",
      "Spearman’s Rank Correlation: 0.019548872180451125\n",
      "\n",
      "Query: NullPointerException handling in Java\n",
      "Kendall's Tau: 0.15789473684210525\n",
      "Spearman’s Rank Correlation: 0.20300751879699244\n",
      "\n",
      "Skipping query 'ModuleNotFoundError: No module named 'requests'': One of the lists is empty\n",
      "Query: Segmentation fault in C++\n",
      "Kendall's Tau: 0.031578947368421054\n",
      "Spearman’s Rank Correlation: 0.009022556390977442\n",
      "\n",
      "Query: SyntaxError: invalid syntax near 'elif'\n",
      "Kendall's Tau: 0.021052631578947368\n",
      "Spearman’s Rank Correlation: 0.12932330827067667\n",
      "\n",
      "Query: Difference between DFS and BFS algorithms\n",
      "Kendall's Tau: 0.052631578947368425\n",
      "Spearman’s Rank Correlation: 0.013533834586466165\n",
      "\n",
      "Query: How does garbage collection work in Java?\n",
      "Kendall's Tau: 0.0736842105263158\n",
      "Spearman’s Rank Correlation: 0.0706766917293233\n",
      "\n",
      "Query: What is tail recursion, and how does it optimize memory\n",
      "Kendall's Tau: 0.5052631578947369\n",
      "Spearman’s Rank Correlation: 0.6451127819548872\n",
      "\n",
      "Query: What are strong and weak references in Python?\n",
      "Kendall's Tau: -0.24210526315789474\n",
      "Spearman’s Rank Correlation: -0.393984962406015\n",
      "\n",
      "Query: Explain dynamic programming with an example\n",
      "Kendall's Tau: 0.15789473684210525\n",
      "Spearman’s Rank Correlation: 0.16541353383458643\n",
      "\n",
      "Query: Best way to concatenate strings in Python\n",
      "Kendall's Tau: -0.1368421052631579\n",
      "Spearman’s Rank Correlation: -0.17293233082706763\n",
      "\n",
      "Query: How to optimize SQL queries for large datasets?\n",
      "Kendall's Tau: 0.08421052631578947\n",
      "Spearman’s Rank Correlation: 0.15939849624060148\n",
      "\n",
      "Query: When to use pointers in C++?\n",
      "Kendall's Tau: 0.23157894736842105\n",
      "Spearman’s Rank Correlation: 0.3398496240601503\n",
      "\n",
      "Query: Why is binary search faster than linear search?\n",
      "Kendall's Tau: -0.10526315789473685\n",
      "Spearman’s Rank Correlation: -0.14285714285714285\n",
      "\n",
      "Query: How to improve performance of nested loops in Java?\n",
      "Kendall's Tau: -0.06315789473684211\n",
      "Spearman’s Rank Correlation: -0.14285714285714285\n",
      "\n",
      "Query: How to use Pandas groupby with multiple columns?\n",
      "Kendall's Tau: -0.08421052631578947\n",
      "Spearman’s Rank Correlation: -0.11428571428571428\n",
      "\n",
      "Query: What does std::move do in C++?\n",
      "Kendall's Tau: -0.4210526315789474\n",
      "Spearman’s Rank Correlation: -0.5308270676691729\n",
      "\n",
      "Query: Difference between apply() and map() in Pandas\n",
      "Kendall's Tau: -0.06315789473684211\n",
      "Spearman’s Rank Correlation: -0.08421052631578946\n",
      "\n",
      "Query: How to use React hooks for state management?\n",
      "Kendall's Tau: 0.0\n",
      "Spearman’s Rank Correlation: -0.003007518796992481\n",
      "\n",
      "Query: How to make an API request with Axios in JavaScript?\n",
      "Kendall's Tau: -0.1473684210526316\n",
      "Spearman’s Rank Correlation: -0.19849624060150375\n",
      "\n",
      "Query: I want pasta for dinner\n",
      "Kendall's Tau: 0.10526315789473685\n",
      "Spearman’s Rank Correlation: 0.23609022556390977\n",
      "\n",
      "Query: coding is very hard\n",
      "Kendall's Tau: 0.0736842105263158\n",
      "Spearman’s Rank Correlation: 0.08721804511278194\n",
      "\n",
      "Query: ajdejfn code\n",
      "Kendall's Tau: 0.22105263157894736\n",
      "Spearman’s Rank Correlation: 0.34736842105263155\n",
      "\n",
      "Query: how to make a website\n",
      "Kendall's Tau: 0.052631578947368425\n",
      "Spearman’s Rank Correlation: 0.0781954887218045\n",
      "\n"
     ]
    }
   ],
   "source": [
    "from scipy.stats import kendalltau, spearmanr\n",
    "\n",
    "def calculate_rank_correlation(retrieved_docs, reranked_doc_list):\n",
    "    \"\"\"\n",
    "    Calculates Kendall's Tau and Spearman's Rank Correlation\n",
    "    between the retrieved and re-ranked document lists.\n",
    "    \"\"\"\n",
    "    correlation_results = {}\n",
    "\n",
    "    for query in reranked_doc_list:\n",
    "        retrieved_list = retrieved_docs[query]\n",
    "        reranked_list = reranked_doc_list[query]\n",
    "\n",
    "        # ensure for empty\n",
    "        if not retrieved_list or not reranked_list:\n",
    "            print(f\"Skipping query '{query}': One of the lists is empty\")\n",
    "            continue\n",
    "\n",
    "        # Compute Kendall's Tau and Spearman's Rank Correlation\n",
    "        kendall_tau_ = kendalltau(retrieved_list, reranked_list).correlation\n",
    "        spearman_corr_ = spearmanr(retrieved_list, reranked_list).correlation\n",
    "\n",
    "        correlation_results[query] = {\n",
    "            \"Kendall's Tau\": kendall_tau_,\n",
    "            \"Spearman's Rank Correlation\": spearman_corr_\n",
    "        }\n",
    "\n",
    "        print(f\"Query: {query}\")\n",
    "        print(f\"Kendall's Tau: {kendall_tau_}\")\n",
    "        print(f\"Spearman’s Rank Correlation: {spearman_corr_}\\n\")\n",
    "\n",
    "    return correlation_results\n",
    "\n",
    "correlation_results = calculate_rank_correlation(retrieved_docs, reranked_doc_list)\n",
    "\n",
    "#If τ is low but re-ranking makes sense based on metadata/LM, it may be good.\n",
    "#If τ is high, re-ranking didn’t change much.\n",
    "\n",
    "#small value for all of them\n"
   ]
  },
  {
   "cell_type": "code",
   "execution_count": null,
   "metadata": {},
   "outputs": [],
   "source": [
    "def get_docs_for_term(term, doct):\n",
    "    stemmer_term=stemmer.stem(term.lower())\n",
    "    return set(doct.get(stemmer_term, [0, {}])[1].keys())\n",
    "\n",
    "def boolean_and(term1, term2, doct):\n",
    "    docs1 = get_docs_for_term(term1, doct)\n",
    "    docs2 = get_docs_for_term(term2, doct)\n",
    "    return docs1 & docs2\n",
    "\n",
    "def boolean_or(term1, term2, doct):\n",
    "    docs1 = get_docs_for_term(term1, doct)\n",
    "    docs2 = get_docs_for_term(term2, doct)\n",
    "    ans = docs1 | docs2\n",
    "    return ans \n",
    "\n",
    "def boolean_not(term2, alldocs, doct):\n",
    "    docs = get_docs_for_term(term2, doct)\n",
    "    ans= alldocs - docs\n",
    "    return ans\n",
    "\n",
    "def boolean_search(query, dict, doc_set):\n",
    "    words = query.split()\n",
    "\n",
    "    # Handle simple Boolean expressions with AND/OR\n",
    "    if len(words) == 3 and not(words[0].startswith('\"')):\n",
    "        term1, operator, term2 = words\n",
    "\n",
    "        # Handle AND operation\n",
    "        if operator.lower() == \"and\":\n",
    "            ans = boolean_and(term1, term2, dict)\n",
    "            return ans\n",
    "\n",
    "        # Handle OR operation\n",
    "        if operator.lower() == \"or\":\n",
    "            ans = boolean_or(term1, term2, dict)\n",
    "            return ans\n",
    "\n",
    "    # More complex cases with phrase searches or NOT operators\n",
    "    else:\n",
    "        result = set()\n",
    "\n",
    "        i = 0\n",
    "        while i < len(words):\n",
    "            if words[i].lower() == \"not\":  # Handling 'NOT' logic\n",
    "                stemmed_word = stemmer.stem(words[i + 1].lower())\n",
    "                res1 = boolean_not(stemmed_word, doc_set, dict)\n",
    "                result = result.union(res1)\n",
    "                i += 2\n",
    "            elif words[i].strip('\"').lower() in [\"and\", \"or\"]:  # Handle AND/OR with previous results\n",
    "                operator = words[i].strip('\"').lower()\n",
    "                next_term = words[i + 1].strip('\"').lower()\n",
    "                stemmed_word = stemmer.stem(next_term.lower())\n",
    "                if(next_term.lower()!=\"not\"):\n",
    "                    if(words[i+1].startswith('\"')):\n",
    "                       phrase_term = words[i+1].strip('\"')+' '+words[i+2].strip('\"')\n",
    "                       res2 = phrase_search(phrase_term, dict)\n",
    "                       i+=3\n",
    "                    else:\n",
    "                      res2 = get_docs_for_term(stemmed_word, dict)\n",
    "                      i+=2\n",
    "                elif(next_term.lower()==\"not\"):\n",
    "                    stemmed_word = stemmer.stem(words[i + 2].lower())\n",
    "                    res2 = boolean_not(stemmed_word, doc_set, dict)\n",
    "                    i+=3\n",
    "\n",
    "                if operator == \"and\":\n",
    "                    result = result.intersection(res2)\n",
    "                elif operator == \"or\":\n",
    "                    result = result.union(res2)\n",
    "                #i += 2\n",
    "            elif words[i].startswith('\"') and words[i].strip('\"').lower() not in [\"and\", \"or\"]:  # Handle phrase search\n",
    "                \n",
    "                phrase_term = words[i].strip('\"')+' '+words[i+1].strip('\"')\n",
    "                res1 = phrase_search(phrase_term, dict)\n",
    "                result = result.union(res1)\n",
    "                i += 2\n",
    "            else:  # Handle individual terms or proximity searches\n",
    "                term = words[i]\n",
    "                stemmed_term = stemmer.stem(term.lower())\n",
    "\n",
    "                if i < len(words) - 1 and words[i + 1] == \"#\":  # Proximity search\n",
    "                    proximity_term = words[i] + words[i + 1]\n",
    "                    res1 = proximity_search(proximity_term, dict)\n",
    "                    result = result.union(res1)\n",
    "                    i += 2\n",
    "                else:  # Regular term search\n",
    "                    res1 = get_docs_for_term(stemmed_term, dict)\n",
    "                    result = result.union(res1)\n",
    "                    i += 1\n",
    "            if(i>=len(words)):\n",
    "               return result\n",
    "\n",
    "    return {}\n",
    "\n",
    "\n",
    "def get_docs_and_positions(term,dict):\n",
    "   stemterm=stemmer.stem(term.lower())\n",
    "   if(stemterm in dict):\n",
    "     return dict[stemterm][1]\n",
    "\n",
    "   return {}\n",
    "\n",
    "#phrase search\n",
    "def phrase_search(query, dict):\n",
    "    words = query.split()\n",
    "    if stemmer.stem(words[0].lower()) not in dict:\n",
    "        return [] \n",
    "    \n",
    "    first_term_docs = get_docs_and_positions(words[0].lower(), dict)\n",
    "\n",
    "    for i in range(1, len(words)):\n",
    "        next_word = words[i]\n",
    "        \n",
    "        if stemmer.stem(next_word.lower()) not in dict:\n",
    "            return []\n",
    "        \n",
    "        next_word_docs = get_docs_and_positions(next_word.lower(), dict)\n",
    "        \n",
    "        new_candidate_docs = {}\n",
    "        \n",
    "        for doc_id, positions in first_term_docs.items():\n",
    "            if doc_id in next_word_docs:\n",
    "                next_word_positions = next_word_docs[doc_id]\n",
    "                \n",
    "                for pos in positions:\n",
    "                    if pos + 1 in next_word_positions:\n",
    "                        if doc_id not in new_candidate_docs:\n",
    "                            new_candidate_docs[doc_id] = []\n",
    "                        new_candidate_docs[doc_id].append(pos + 1)\n",
    "        \n",
    "        first_term_docs = new_candidate_docs\n",
    "    \n",
    "    return list(first_term_docs.keys())\n",
    "\n",
    "#proximity search\n",
    "def proximity_search(query,dict):\n",
    "   pattern = r\"#(\\d+)\\((\\w+),\\s*(\\w+)\\)\"\n",
    "   match = re.match(pattern, query)\n",
    "   if match:\n",
    "    number = match.group(1)\n",
    "    word1 = match.group(2)\n",
    "    word2 = match.group(3)\n",
    "   stemterm1=stemmer.stem(word1.lower())\n",
    "   stemterm2=stemmer.stem(word2.lower())\n",
    "   docs1=get_docs_for_term(word1,dict)\n",
    "   docs2=get_docs_for_term(word2,dict)\n",
    "   docs_both_terms=docs1 & docs2\n",
    "   ans_doc=[]\n",
    "   for doc in docs_both_terms:\n",
    "\n",
    "      positions1=dict[stemterm1][1][doc]\n",
    "      positions2=dict[stemterm2][1][doc]\n",
    "      for pos1 in positions1:\n",
    "         for pos2 in positions2:\n",
    "            if abs(pos1 - pos2)<int(number):\n",
    "               ans_doc.append(doc)\n",
    "\n",
    "   return set(ans_doc)"
   ]
  }
 ],
 "metadata": {
  "kernelspec": {
   "display_name": "base",
   "language": "python",
   "name": "python3"
  },
  "language_info": {
   "codemirror_mode": {
    "name": "ipython",
    "version": 3
   },
   "file_extension": ".py",
   "mimetype": "text/x-python",
   "name": "python",
   "nbconvert_exporter": "python",
   "pygments_lexer": "ipython3",
   "version": "3.11.5"
  }
 },
 "nbformat": 4,
 "nbformat_minor": 2
}
