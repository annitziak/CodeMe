{
 "cells": [
  {
   "cell_type": "code",
   "execution_count": null,
   "metadata": {},
   "outputs": [],
   "source": [
    "#extract the tags from the excel file that Sean provided\n",
    "#save the tags to a text file\n",
    "\n",
    "\n",
    "import pandas as pd\n",
    "\n",
    "# load the excel file\n",
    "excel_file = \"data/Tags.csv\"\n",
    "df = pd.read_csv(excel_file)\n",
    "\n",
    "# extract the tagname column\n",
    "tags = df['tagname'].dropna().unique()\n",
    "\n",
    "# save tags to a text file\n",
    "with open(\"data/tags_list.txt\", \"w\") as f:\n",
    "    for tag in tags:\n",
    "        f.write(f\"{tag}\\n\")\n",
    "\n",
    "print(f\"Successfully extracted {len(tags)} tags and saved to tags_list.txt\")\n"
   ]
  },
  {
   "cell_type": "code",
   "execution_count": null,
   "metadata": {},
   "outputs": [],
   "source": [
    "from transformers import RobertaTokenizer, RobertaModel\n",
    "from sklearn.cluster import AgglomerativeClustering\n",
    "import torch\n",
    "import numpy as np\n",
    "\n",
    "# Load CodeBERT tokenizer and model\n",
    "tokenizer = RobertaTokenizer.from_pretrained(\"microsoft/codebert-base\")\n",
    "model = RobertaModel.from_pretrained(\"microsoft/codebert-base\")\n",
    "\n",
    "# Read tags from the text file\n",
    "with open(\"data/tags_list.txt\", \"r\") as f:    #change the path \n",
    "    tags = [line.strip() for line in f.readlines()]\n",
    "\n",
    "print(f\"Loaded {len(tags)} tags for clustering.\")\n",
    "\n",
    "# Generate embeddings for each tag\n",
    "def get_embedding(tag):\n",
    "    inputs = tokenizer(tag, return_tensors=\"pt\")\n",
    "    with torch.no_grad():\n",
    "        outputs = model(**inputs)\n",
    "    # Use the [CLS] token representation as the embedding\n",
    "    return outputs.last_hidden_state[:, 0, :].squeeze().numpy()\n",
    "\n",
    "embeddings = np.array([get_embedding(tag) for tag in tags])\n",
    "\n",
    "# Perform Clustering with Euclidean Distance (tried with cosine similarity but it yielded some weird clusters (the first one had the majority of the tags and the others had just 1 tag per cluster))\n",
    "n_clusters = 5  # Adjust as needed\n",
    "cluster_euclidean = AgglomerativeClustering(n_clusters=n_clusters, metric='euclidean', linkage='ward')\n",
    "labels_euclidean = cluster_euclidean.fit_predict(embeddings)\n",
    "\n",
    "# Step 5: Print Clusters\n",
    "print(\"\\n===== Clustering =====\\n\")\n",
    "\n",
    "for i in range(n_clusters):\n",
    "    euclidean_tags = [tags[j] for j in range(len(tags)) if labels_euclidean[j] == i]\n",
    "    print(f\"\\nCluster {i + 1} ({len(euclidean_tags)} tags):\")\n",
    "    print(\", \".join(euclidean_tags[:15]))  # Show first 15 tags\n",
    "\n",
    "print(\"\\n Clustering completed successfully!\")\n"
   ]
  },
  {
   "cell_type": "code",
   "execution_count": 16,
   "metadata": {},
   "outputs": [
    {
     "name": "stdout",
     "output_type": "stream",
     "text": [
      "\n",
      " Clustering results saved to 'data/clustering_results.txt'\n"
     ]
    }
   ],
   "source": [
    "#writing all clusters in a file for easy access\n",
    "output_file = \"data/clustering_results.txt\"\n",
    "\n",
    "with open(output_file, \"w\", encoding=\"utf-8\") as f:\n",
    "    f.write(\"=====Clustering Results =====\\n\\n\")\n",
    "    for i in range(n_clusters):\n",
    "        cluster_tags = [tags[j] for j in range(len(tags)) if labels_euclidean[j] == i]\n",
    "        f.write(f\"Cluster {i + 1} ({len(euclidean_tags)} tags):\\n\")\n",
    "        f.write(\", \".join(euclidean_tags) + \"\\n\\n\") \n",
    "\n",
    "print(f\"\\n Clustering results saved to '{output_file}'\")"
   ]
  },
  {
   "cell_type": "code",
   "execution_count": null,
   "metadata": {},
   "outputs": [
    {
     "name": "stdout",
     "output_type": "stream",
     "text": [
      "Silhouette Score for Euclidean Clustering: 0.0317\n"
     ]
    }
   ],
   "source": [
    "from sklearn.metrics import silhouette_score\n",
    "\n",
    "# Calculate Silhouette Score= it shows reasonable clustering but maybe not the best ? \n",
    "sil_score = silhouette_score(embeddings, labels_euclidean, metric='euclidean')\n",
    "print(f\"Silhouette Score for Euclidean Clustering: {sil_score:.4f}\")\n"
   ]
  },
  {
   "cell_type": "code",
   "execution_count": 17,
   "metadata": {},
   "outputs": [
    {
     "name": "stdout",
     "output_type": "stream",
     "text": [
      "Davies-Bouldin Index: 3.8736\n"
     ]
    }
   ],
   "source": [
    "from sklearn.metrics import davies_bouldin_score\n",
    "\n",
    "# Calculate Davies-Bouldin Index\n",
    "db_score = davies_bouldin_score(embeddings, labels_euclidean)\n",
    "print(f\"Davies-Bouldin Index: {db_score:.4f}\")\n"
   ]
  },
  {
   "cell_type": "code",
   "execution_count": null,
   "metadata": {},
   "outputs": [],
   "source": [
    "from transformers import RobertaTokenizer, RobertaModel\n",
    "from sklearn.cluster import AgglomerativeClustering\n",
    "from sklearn.decomposition import PCA\n",
    "from sklearn.metrics import silhouette_score\n",
    "from sklearn.preprocessing import normalize\n",
    "import torch\n",
    "import numpy as np\n",
    "\n",
    "# Load CodeBERT tokenizer and model\n",
    "tokenizer = RobertaTokenizer.from_pretrained(\"microsoft/codebert-base\")\n",
    "model = RobertaModel.from_pretrained(\"microsoft/codebert-base\")\n",
    "\n",
    "# Read tags from the text file\n",
    "with open(\"data/tags_list.txt\", \"r\") as f:  # Update path as needed\n",
    "    tags = [line.strip() for line in f.readlines()]\n",
    "\n",
    "print(f\"Loaded {len(tags)} tags for clustering.\")\n",
    "\n",
    "# Generate embeddings for each tag\n",
    "def get_embedding(tag):\n",
    "    inputs = tokenizer(tag, return_tensors=\"pt\")\n",
    "    with torch.no_grad():\n",
    "        outputs = model(**inputs)\n",
    "    # Use the [CLS] token representation as the embedding\n",
    "    return outputs.last_hidden_state[:, 0, :].squeeze().numpy()\n",
    "\n",
    "# Generate embeddings\n",
    "embeddings = np.array([get_embedding(tag) for tag in tags])\n",
    "print(f\"Generated embeddings with shape: {embeddings.shape}\")\n",
    "\n",
    "# Normalize embeddings\n",
    "normalized_embeddings = normalize(embeddings)\n",
    "print(\"Normalized embeddings.\")\n",
    "\n",
    "# Apply PCA to reduce dimensions\n",
    "pca = PCA(n_components=50, random_state=42)\n",
    "reduced_embeddings = pca.fit_transform(normalized_embeddings)\n",
    "print(f\"Reduced embeddings to shape: {reduced_embeddings.shape}\")\n",
    "\n",
    "# Perform Agglomerative Clustering with Euclidean Distance\n",
    "n_clusters = 5  # Adjust as needed\n",
    "cluster_euclidean = AgglomerativeClustering(n_clusters=n_clusters, metric='euclidean', linkage='ward')\n",
    "labels_euclidean = cluster_euclidean.fit_predict(reduced_embeddings)\n",
    "\n",
    "# Calculate Silhouette Score\n",
    "sil_score = silhouette_score(reduced_embeddings, labels_euclidean, metric='euclidean')\n",
    "print(f\"Silhouette Score for Euclidean Clustering: {sil_score:.4f}\")\n",
    "\n",
    "# Print Clusters and Prepare Output for Saving\n",
    "print(\"\\n===== Clustering Results =====\\n\")\n",
    "output_lines = [\"===== Clustering Results =====\\n\\n\"]\n",
    "\n",
    "for i in range(n_clusters):\n",
    "    euclidean_tags = [tags[j] for j in range(len(tags)) if labels_euclidean[j] == i]\n",
    "    cluster_header = f\"\\n🚀 Cluster {i + 1} ({len(euclidean_tags)} tags):\\n\"\n",
    "    cluster_tags = \", \".join(euclidean_tags[:15]) + \"\\n\\n\"  # Show first 15 tags\n",
    "\n",
    "    # Print to console\n",
    "    print(cluster_header)\n",
    "    print(cluster_tags)\n",
    "\n",
    "    # Append to output file\n",
    "    output_lines.append(cluster_header)\n",
    "    output_lines.append(\", \".join(euclidean_tags) + \"\\n\\n\")  # Save all tags in file\n",
    "\n",
    "print(\"Clustering completed successfully!\")\n",
    "\n",
    "# Save Clustering Results to a Text File\n",
    "output_file = \"data/clustering_results.txt\"\n",
    "with open(output_file, \"w\", encoding=\"utf-8\") as f:\n",
    "    f.writelines(output_lines)\n",
    "\n",
    "print(f\"Clustering results saved to '{output_file}'\")\n"
   ]
  }
 ],
 "metadata": {
  "kernelspec": {
   "display_name": "Python 3",
   "language": "python",
   "name": "python3"
  },
  "language_info": {
   "codemirror_mode": {
    "name": "ipython",
    "version": 3
   },
   "file_extension": ".py",
   "mimetype": "text/x-python",
   "name": "python",
   "nbconvert_exporter": "python",
   "pygments_lexer": "ipython3",
   "version": "3.12.6"
  }
 },
 "nbformat": 4,
 "nbformat_minor": 2
}
