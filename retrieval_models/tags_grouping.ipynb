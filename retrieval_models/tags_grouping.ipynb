{
 "cells": [
  {
   "cell_type": "code",
   "execution_count": null,
   "metadata": {},
   "outputs": [],
   "source": [
    "#extract the tags from the excel file that Sean provided\n",
    "#save the tags to a text file\n",
    "\n",
    "\n",
    "import pandas as pd\n",
    "\n",
    "# load the excel file\n",
    "excel_file = \"data/Tags.csv\"\n",
    "df = pd.read_csv(excel_file)\n",
    "\n",
    "# extract the tagname column\n",
    "tags = df['tagname'].dropna().unique()\n",
    "\n",
    "# save tags to a text file\n",
    "with open(\"data/tags_list.txt\", \"w\") as f:\n",
    "    for tag in tags:\n",
    "        f.write(f\"{tag}\\n\")\n",
    "\n",
    "print(f\"Successfully extracted {len(tags)} tags and saved to tags_list.txt\")\n"
   ]
  },
  {
   "cell_type": "code",
   "execution_count": null,
   "metadata": {},
   "outputs": [],
   "source": [
    "from transformers import RobertaTokenizer, RobertaModel\n",
    "from sklearn.cluster import AgglomerativeClustering\n",
    "import torch\n",
    "import numpy as np\n",
    "\n",
    "# Load CodeBERT tokenizer and model\n",
    "tokenizer = RobertaTokenizer.from_pretrained(\"microsoft/codebert-base\")\n",
    "model = RobertaModel.from_pretrained(\"microsoft/codebert-base\")\n",
    "\n",
    "# Read tags from the text file\n",
    "with open(\"data/tags_list.txt\", \"r\") as f:    #change the path \n",
    "    tags = [line.strip() for line in f.readlines()]\n",
    "\n",
    "print(f\"Loaded {len(tags)} tags for clustering.\")\n",
    "\n",
    "# Generate embeddings for each tag\n",
    "def get_embedding(tag):\n",
    "    inputs = tokenizer(tag, return_tensors=\"pt\")\n",
    "    with torch.no_grad():\n",
    "        outputs = model(**inputs)\n",
    "    # Use the [CLS] token representation as the embedding\n",
    "    return outputs.last_hidden_state[:, 0, :].squeeze().numpy()\n",
    "\n",
    "embeddings = np.array([get_embedding(tag) for tag in tags])\n",
    "\n",
    "# Perform Clustering with Euclidean Distance (tried with cosine similarity but it yielded some weird clusters (the first one had the majority of the tags and the others had just 1 tag per cluster))\n",
    "n_clusters = 5  # Adjust as needed\n",
    "cluster_euclidean = AgglomerativeClustering(n_clusters=n_clusters, metric='euclidean', linkage='ward')\n",
    "labels_euclidean = cluster_euclidean.fit_predict(embeddings)\n",
    "\n",
    "# Step 5: Print Clusters\n",
    "print(\"\\n===== Clustering =====\\n\")\n",
    "\n",
    "for i in range(n_clusters):\n",
    "    euclidean_tags = [tags[j] for j in range(len(tags)) if labels_euclidean[j] == i]\n",
    "    print(f\"\\nCluster {i + 1} ({len(euclidean_tags)} tags):\")\n",
    "    print(\", \".join(euclidean_tags[:15]))  # Show first 15 tags\n",
    "\n",
    "print(\"\\n Clustering completed successfully!\")\n"
   ]
  },
  {
   "cell_type": "code",
   "execution_count": null,
   "metadata": {},
   "outputs": [
    {
     "name": "stdout",
     "output_type": "stream",
     "text": [
      "\n",
      " Clustering results saved to 'data/clustering_results.txt'\n"
     ]
    }
   ],
   "source": [
    "#writing all clusters in a file for easy access\n",
    "output_file = \"data/clustering_results.txt\"\n",
    "\n",
    "with open(output_file, \"w\", encoding=\"utf-8\") as f:\n",
    "    f.write(\"=====Clustering Results =====\\n\\n\")\n",
    "    for i in range(n_clusters):\n",
    "        cluster_tags = [tags[j] for j in range(len(tags)) if labels_euclidean[j] == i]\n",
    "        f.write(f\"Cluster {i + 1} ({len(euclidean_tags)} tags):\\n\")\n",
    "        f.write(\", \".join(euclidean_tags) + \"\\n\\n\") \n",
    "\n",
    "print(f\"\\n Clustering results saved to '{output_file}'\")"
   ]
  }
 ],
 "metadata": {
  "kernelspec": {
   "display_name": "Python 3",
   "language": "python",
   "name": "python3"
  },
  "language_info": {
   "codemirror_mode": {
    "name": "ipython",
    "version": 3
   },
   "file_extension": ".py",
   "mimetype": "text/x-python",
   "name": "python",
   "nbconvert_exporter": "python",
   "pygments_lexer": "ipython3",
   "version": "3.12.6"
  }
 },
 "nbformat": 4,
 "nbformat_minor": 2
}
